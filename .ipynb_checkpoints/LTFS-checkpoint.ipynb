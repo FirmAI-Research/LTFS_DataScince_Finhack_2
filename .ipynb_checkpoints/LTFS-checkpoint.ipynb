{
 "cells": [
  {
   "cell_type": "code",
   "execution_count": 1,
   "metadata": {
    "collapsed": true
   },
   "outputs": [],
   "source": [
    "import pandas as pd\n",
    "import numpy as np\n",
    "import matplotlib.pyplot as plt\n",
    "%matplotlib inline\n",
    "import seaborn as sns\n",
    "from sklearn.model_selection import train_test_split,KFold,cross_val_score,RandomizedSearchCV,TimeSeriesSplit,GridSearchCV\n",
    "from sklearn.linear_model import LinearRegression,Ridge,Lasso\n",
    "from sklearn.ensemble import RandomForestRegressor\n",
    "pd.set_option('mode.chained_assignment', None)"
   ]
  },
  {
   "cell_type": "code",
   "execution_count": 2,
   "metadata": {
    "collapsed": true
   },
   "outputs": [],
   "source": [
    "train = pd.read_csv(\"train_fwYjLYX.csv\",parse_dates=['application_date'])\n",
    "test  = pd.read_csv(\"test_1eLl9Yf.csv\",parse_dates=['application_date'])"
   ]
  },
  {
   "cell_type": "code",
   "execution_count": 3,
   "metadata": {
    "collapsed": false
   },
   "outputs": [
    {
     "name": "stdout",
     "output_type": "stream",
     "text": [
      "Shape of Training Data:(80402, 6)\n",
      "Shape of Testing Data:(180, 3)\n"
     ]
    }
   ],
   "source": [
    "print (\"Shape of Training Data:{}\".format(train.shape))\n",
    "print (\"Shape of Testing Data:{}\".format(test.shape))"
   ]
  },
  {
   "cell_type": "code",
   "execution_count": 4,
   "metadata": {
    "collapsed": false
   },
   "outputs": [],
   "source": [
    "Submission = test[['id','application_date','segment']]\n",
    "test.drop('id',axis=1,inplace=True)"
   ]
  },
  {
   "cell_type": "code",
   "execution_count": 5,
   "metadata": {
    "collapsed": true
   },
   "outputs": [],
   "source": [
    "df_train = train.copy()\n",
    "df_test = test.copy()"
   ]
  },
  {
   "cell_type": "markdown",
   "metadata": {},
   "source": [
    "### EDA- Train Data"
   ]
  },
  {
   "cell_type": "code",
   "execution_count": 6,
   "metadata": {
    "collapsed": false
   },
   "outputs": [
    {
     "name": "stdout",
     "output_type": "stream",
     "text": [
      "<class 'pandas.core.frame.DataFrame'>\n",
      "RangeIndex: 80402 entries, 0 to 80401\n",
      "Data columns (total 6 columns):\n",
      "application_date    80402 non-null datetime64[ns]\n",
      "segment             80402 non-null int64\n",
      "branch_id           66898 non-null float64\n",
      "state               80402 non-null object\n",
      "zone                66898 non-null object\n",
      "case_count          80402 non-null float64\n",
      "dtypes: datetime64[ns](1), float64(2), int64(1), object(2)\n",
      "memory usage: 11.9 MB\n"
     ]
    }
   ],
   "source": [
    "train.info(memory_usage='deep')"
   ]
  },
  {
   "cell_type": "markdown",
   "metadata": {},
   "source": [
    "1. There are missing values in branch_id and zone variables.\n",
    "2. application_date variable is read as datetime type.\n",
    "3. Dependent variable does not have missing values. "
   ]
  },
  {
   "cell_type": "code",
   "execution_count": 7,
   "metadata": {
    "collapsed": false
   },
   "outputs": [
    {
     "data": {
      "text/plain": [
       "(Timestamp('2019-07-23 00:00:00'), Timestamp('2017-04-01 00:00:00'))"
      ]
     },
     "execution_count": 7,
     "metadata": {},
     "output_type": "execute_result"
    }
   ],
   "source": [
    "train['application_date'].max(), train['application_date'].min()\n",
    "# Training data starts from 1st of April 2017 and ends at 23rd of July 2019. Roughly 2 years of data."
   ]
  },
  {
   "cell_type": "code",
   "execution_count": 8,
   "metadata": {
    "collapsed": false,
    "scrolled": true
   },
   "outputs": [
    {
     "data": {
      "text/plain": [
       "Text(0, 0.5, 'Count')"
      ]
     },
     "execution_count": 8,
     "metadata": {},
     "output_type": "execute_result"
    },
    {
     "data": {
      "image/png": "[encoded data removed]",
      "text/plain": [
       "<Figure size 432x288 with 1 Axes>"
      ]
     },
     "metadata": {},
     "output_type": "display_data"
    }
   ],
   "source": [
    "sns.countplot(train['segment'],order=train['segment'].value_counts().index)\n",
    "plt.title(\"Distribution of Segment Variable\")\n",
    "plt.xlabel(\"Segment\")\n",
    "plt.ylabel(\"Count\")\n",
    "# Lot more values of Segment1 than Segment2"
   ]
  },
  {
   "cell_type": "code",
   "execution_count": 9,
   "metadata": {
    "collapsed": false
   },
   "outputs": [
    {
     "data": {
      "text/plain": [
       "NaN       13504\n",
       " 159.0      806\n",
       " 17.0       806\n",
       " 67.0       806\n",
       " 269.0      806\n",
       " 74.0       806\n",
       " 268.0      806\n",
       " 135.0      806\n",
       " 62.0       806\n",
       " 271.0      806\n",
       "Name: branch_id, dtype: int64"
      ]
     },
     "execution_count": 9,
     "metadata": {},
     "output_type": "execute_result"
    }
   ],
   "source": [
    "train['branch_id'].value_counts(dropna=False).head(10)\n",
    "# All of the branch_id's have the same count i.e. 806 and this variable has 13504 missing values."
   ]
  },
  {
   "cell_type": "code",
   "execution_count": 10,
   "metadata": {
    "collapsed": false
   },
   "outputs": [
    {
     "name": "stdout",
     "output_type": "stream",
     "text": [
      "Number of Unique Branch_Id's in Training Data:83\n"
     ]
    }
   ],
   "source": [
    "print (\"Number of Unique Branch_Id's in Training Data:{}\".format(train['branch_id'].nunique()))\n",
    "# 83 unique branch_id's in total in training dataset."
   ]
  },
  {
   "cell_type": "code",
   "execution_count": 11,
   "metadata": {
    "collapsed": false
   },
   "outputs": [
    {
     "data": {
      "text/plain": [
       "(array([ 0,  1,  2,  3,  4,  5,  6,  7,  8,  9, 10, 11, 12, 13, 14, 15, 16,\n",
       "        17, 18, 19]), <a list of 20 Text xticklabel objects>)"
      ]
     },
     "execution_count": 11,
     "metadata": {},
     "output_type": "execute_result"
    },
    {
     "data": {
      "image/png": "[encoded data removed]",
      "text/plain": [
       "<Figure size 720x432 with 1 Axes>"
      ]
     },
     "metadata": {},
     "output_type": "display_data"
    }
   ],
   "source": [
    "plt.figure(figsize=(10,6))\n",
    "sns.countplot(train['state'],order=train['state'].value_counts(dropna=False).index)\n",
    "plt.title(\"Distribution of State variable\")\n",
    "plt.xlabel(\"State\")\n",
    "plt.ylabel(\"Count\")\n",
    "plt.xticks(rotation=90)\n",
    "# Maharashtra has the largest count followed by West Bengal and Gujarat, Delhi has the least count."
   ]
  },
  {
   "cell_type": "code",
   "execution_count": 12,
   "metadata": {
    "collapsed": false
   },
   "outputs": [
    {
     "data": {
      "text/plain": [
       "Text(0, 0.5, 'Count')"
      ]
     },
     "execution_count": 12,
     "metadata": {},
     "output_type": "execute_result"
    },
    {
     "data": {
      "image/png": "[encoded data removed]",
      "text/plain": [
       "<Figure size 432x288 with 1 Axes>"
      ]
     },
     "metadata": {},
     "output_type": "display_data"
    }
   ],
   "source": [
    "train['zone'].value_counts(dropna=False).plot(kind='bar')\n",
    "plt.title(\"Distribution of zone variable\")\n",
    "plt.xlabel(\"zone\")\n",
    "plt.ylabel(\"Count\")\n",
    "# East has the highest count and Central has the least count, lot of missing values here."
   ]
  },
  {
   "cell_type": "code",
   "execution_count": 13,
   "metadata": {
    "collapsed": false
   },
   "outputs": [
    {
     "data": {
      "text/plain": [
       "count    80402.000000\n",
       "mean       185.481841\n",
       "std        749.602925\n",
       "min          0.000000\n",
       "25%          0.000000\n",
       "50%         18.000000\n",
       "75%         60.000000\n",
       "max      13787.000000\n",
       "Name: case_count, dtype: float64"
      ]
     },
     "execution_count": 13,
     "metadata": {},
     "output_type": "execute_result"
    }
   ],
   "source": [
    "train['case_count'].describe()"
   ]
  },
  {
   "cell_type": "markdown",
   "metadata": {},
   "source": [
    "Some observations with respect to the dependent variable,\n",
    "1. Maximum case count is 13787 which is exceptionally high.\n",
    "2. Minimum case count is 0 which is understandable. \n",
    "3. Average value is 185 and the Median value is 18, so the distribution will be somewhat skewed. "
   ]
  },
  {
   "cell_type": "code",
   "execution_count": 14,
   "metadata": {
    "collapsed": false
   },
   "outputs": [
    {
     "data": {
      "text/plain": [
       "<matplotlib.axes._subplots.AxesSubplot at 0x2235af13080>"
      ]
     },
     "execution_count": 14,
     "metadata": {},
     "output_type": "execute_result"
    },
    {
     "data": {
      "image/png": "[encoded data removed]",
      "text/plain": [
       "<Figure size 432x288 with 1 Axes>"
      ]
     },
     "metadata": {},
     "output_type": "display_data"
    }
   ],
   "source": [
    "sns.distplot(np.log1p(train['case_count']),kde=False,bins=50)\n",
    "# As we can see a lot of 0 values. "
   ]
  },
  {
   "cell_type": "code",
   "execution_count": 15,
   "metadata": {
    "collapsed": false
   },
   "outputs": [
    {
     "data": {
      "text/html": [
       "<div>\n",
       "<table border=\"1\" class=\"dataframe\">\n",
       "  <thead>\n",
       "    <tr style=\"text-align: right;\">\n",
       "      <th></th>\n",
       "      <th>application_date</th>\n",
       "      <th>segment</th>\n",
       "      <th>branch_id</th>\n",
       "      <th>state</th>\n",
       "      <th>zone</th>\n",
       "      <th>case_count</th>\n",
       "    </tr>\n",
       "  </thead>\n",
       "  <tbody>\n",
       "    <tr>\n",
       "      <th>0</th>\n",
       "      <td>2017-04-01</td>\n",
       "      <td>1</td>\n",
       "      <td>1.0</td>\n",
       "      <td>WEST BENGAL</td>\n",
       "      <td>EAST</td>\n",
       "      <td>40.0</td>\n",
       "    </tr>\n",
       "    <tr>\n",
       "      <th>1</th>\n",
       "      <td>2017-04-03</td>\n",
       "      <td>1</td>\n",
       "      <td>1.0</td>\n",
       "      <td>WEST BENGAL</td>\n",
       "      <td>EAST</td>\n",
       "      <td>5.0</td>\n",
       "    </tr>\n",
       "    <tr>\n",
       "      <th>2</th>\n",
       "      <td>2017-04-04</td>\n",
       "      <td>1</td>\n",
       "      <td>1.0</td>\n",
       "      <td>WEST BENGAL</td>\n",
       "      <td>EAST</td>\n",
       "      <td>4.0</td>\n",
       "    </tr>\n",
       "    <tr>\n",
       "      <th>3</th>\n",
       "      <td>2017-04-05</td>\n",
       "      <td>1</td>\n",
       "      <td>1.0</td>\n",
       "      <td>WEST BENGAL</td>\n",
       "      <td>EAST</td>\n",
       "      <td>113.0</td>\n",
       "    </tr>\n",
       "    <tr>\n",
       "      <th>4</th>\n",
       "      <td>2017-04-07</td>\n",
       "      <td>1</td>\n",
       "      <td>1.0</td>\n",
       "      <td>WEST BENGAL</td>\n",
       "      <td>EAST</td>\n",
       "      <td>76.0</td>\n",
       "    </tr>\n",
       "  </tbody>\n",
       "</table>\n",
       "</div>"
      ],
      "text/plain": [
       "  application_date  segment  branch_id        state  zone  case_count\n",
       "0       2017-04-01        1        1.0  WEST BENGAL  EAST        40.0\n",
       "1       2017-04-03        1        1.0  WEST BENGAL  EAST         5.0\n",
       "2       2017-04-04        1        1.0  WEST BENGAL  EAST         4.0\n",
       "3       2017-04-05        1        1.0  WEST BENGAL  EAST       113.0\n",
       "4       2017-04-07        1        1.0  WEST BENGAL  EAST        76.0"
      ]
     },
     "execution_count": 15,
     "metadata": {},
     "output_type": "execute_result"
    }
   ],
   "source": [
    "train.head()"
   ]
  },
  {
   "cell_type": "markdown",
   "metadata": {},
   "source": [
    "### Bi-Variate Analysis"
   ]
  },
  {
   "cell_type": "code",
   "execution_count": 16,
   "metadata": {
    "collapsed": false
   },
   "outputs": [
    {
     "data": {
      "text/html": [
       "<div>\n",
       "<table border=\"1\" class=\"dataframe\">\n",
       "  <thead>\n",
       "    <tr style=\"text-align: right;\">\n",
       "      <th></th>\n",
       "      <th>min</th>\n",
       "      <th>max</th>\n",
       "      <th>mean</th>\n",
       "      <th>median</th>\n",
       "      <th>std</th>\n",
       "    </tr>\n",
       "    <tr>\n",
       "      <th>segment</th>\n",
       "      <th></th>\n",
       "      <th></th>\n",
       "      <th></th>\n",
       "      <th></th>\n",
       "      <th></th>\n",
       "    </tr>\n",
       "  </thead>\n",
       "  <tbody>\n",
       "    <tr>\n",
       "      <th>1</th>\n",
       "      <td>0.0</td>\n",
       "      <td>1890.0</td>\n",
       "      <td>32.707106</td>\n",
       "      <td>14.0</td>\n",
       "      <td>61.591868</td>\n",
       "    </tr>\n",
       "    <tr>\n",
       "      <th>2</th>\n",
       "      <td>0.0</td>\n",
       "      <td>13787.0</td>\n",
       "      <td>942.318646</td>\n",
       "      <td>371.0</td>\n",
       "      <td>1624.339623</td>\n",
       "    </tr>\n",
       "  </tbody>\n",
       "</table>\n",
       "</div>"
      ],
      "text/plain": [
       "         min      max        mean  median          std\n",
       "segment                                               \n",
       "1        0.0   1890.0   32.707106    14.0    61.591868\n",
       "2        0.0  13787.0  942.318646   371.0  1624.339623"
      ]
     },
     "execution_count": 16,
     "metadata": {},
     "output_type": "execute_result"
    }
   ],
   "source": [
    "train.groupby('segment')['case_count'].agg(['min','max','mean','median','std'])\n",
    "# We can see that the Maximum value of case_count belongs to segment 2. \n",
    "# all these values for segment1 are higher than segment2."
   ]
  },
  {
   "cell_type": "code",
   "execution_count": 17,
   "metadata": {
    "collapsed": false
   },
   "outputs": [
    {
     "data": {
      "text/html": [
       "<div>\n",
       "<table border=\"1\" class=\"dataframe\">\n",
       "  <thead>\n",
       "    <tr style=\"text-align: right;\">\n",
       "      <th></th>\n",
       "      <th>count</th>\n",
       "      <th>min</th>\n",
       "      <th>max</th>\n",
       "      <th>mean</th>\n",
       "      <th>median</th>\n",
       "      <th>std</th>\n",
       "      <th>sum</th>\n",
       "    </tr>\n",
       "    <tr>\n",
       "      <th>state</th>\n",
       "      <th></th>\n",
       "      <th></th>\n",
       "      <th></th>\n",
       "      <th></th>\n",
       "      <th></th>\n",
       "      <th></th>\n",
       "      <th></th>\n",
       "    </tr>\n",
       "  </thead>\n",
       "  <tbody>\n",
       "    <tr>\n",
       "      <th>DELHI</th>\n",
       "      <td>806</td>\n",
       "      <td>0.0</td>\n",
       "      <td>1488.0</td>\n",
       "      <td>168.486352</td>\n",
       "      <td>136.0</td>\n",
       "      <td>148.757794</td>\n",
       "      <td>135800.0</td>\n",
       "    </tr>\n",
       "    <tr>\n",
       "      <th>UTTARAKHAND</th>\n",
       "      <td>1612</td>\n",
       "      <td>0.0</td>\n",
       "      <td>383.0</td>\n",
       "      <td>24.782258</td>\n",
       "      <td>20.0</td>\n",
       "      <td>27.525605</td>\n",
       "      <td>39949.0</td>\n",
       "    </tr>\n",
       "    <tr>\n",
       "      <th>TELANGANA</th>\n",
       "      <td>1612</td>\n",
       "      <td>0.0</td>\n",
       "      <td>1038.0</td>\n",
       "      <td>56.153226</td>\n",
       "      <td>0.0</td>\n",
       "      <td>88.913544</td>\n",
       "      <td>90519.0</td>\n",
       "    </tr>\n",
       "    <tr>\n",
       "      <th>KERALA</th>\n",
       "      <td>1650</td>\n",
       "      <td>0.0</td>\n",
       "      <td>3369.0</td>\n",
       "      <td>496.008485</td>\n",
       "      <td>39.5</td>\n",
       "      <td>722.016808</td>\n",
       "      <td>818414.0</td>\n",
       "    </tr>\n",
       "    <tr>\n",
       "      <th>CHHATTISGARH</th>\n",
       "      <td>1650</td>\n",
       "      <td>0.0</td>\n",
       "      <td>1111.0</td>\n",
       "      <td>181.298788</td>\n",
       "      <td>22.5</td>\n",
       "      <td>241.012685</td>\n",
       "      <td>299143.0</td>\n",
       "    </tr>\n",
       "    <tr>\n",
       "      <th>MADHYA PRADESH</th>\n",
       "      <td>1650</td>\n",
       "      <td>0.0</td>\n",
       "      <td>2350.0</td>\n",
       "      <td>348.672121</td>\n",
       "      <td>87.0</td>\n",
       "      <td>455.859267</td>\n",
       "      <td>575309.0</td>\n",
       "    </tr>\n",
       "    <tr>\n",
       "      <th>TRIPURA</th>\n",
       "      <td>2456</td>\n",
       "      <td>0.0</td>\n",
       "      <td>997.0</td>\n",
       "      <td>82.313111</td>\n",
       "      <td>32.0</td>\n",
       "      <td>142.665541</td>\n",
       "      <td>202161.0</td>\n",
       "    </tr>\n",
       "    <tr>\n",
       "      <th>JHARKHAND</th>\n",
       "      <td>2456</td>\n",
       "      <td>0.0</td>\n",
       "      <td>833.0</td>\n",
       "      <td>69.036645</td>\n",
       "      <td>20.0</td>\n",
       "      <td>137.794878</td>\n",
       "      <td>169554.0</td>\n",
       "    </tr>\n",
       "    <tr>\n",
       "      <th>BIHAR</th>\n",
       "      <td>3262</td>\n",
       "      <td>0.0</td>\n",
       "      <td>7691.0</td>\n",
       "      <td>419.025445</td>\n",
       "      <td>25.0</td>\n",
       "      <td>1111.541528</td>\n",
       "      <td>1366861.0</td>\n",
       "    </tr>\n",
       "    <tr>\n",
       "      <th>KARNATAKA</th>\n",
       "      <td>3262</td>\n",
       "      <td>0.0</td>\n",
       "      <td>5202.0</td>\n",
       "      <td>519.345494</td>\n",
       "      <td>35.0</td>\n",
       "      <td>972.285346</td>\n",
       "      <td>1694105.0</td>\n",
       "    </tr>\n",
       "    <tr>\n",
       "      <th>ORISSA</th>\n",
       "      <td>3262</td>\n",
       "      <td>0.0</td>\n",
       "      <td>5831.0</td>\n",
       "      <td>408.938688</td>\n",
       "      <td>45.0</td>\n",
       "      <td>950.226384</td>\n",
       "      <td>1333958.0</td>\n",
       "    </tr>\n",
       "    <tr>\n",
       "      <th>ASSAM</th>\n",
       "      <td>4068</td>\n",
       "      <td>0.0</td>\n",
       "      <td>3208.0</td>\n",
       "      <td>187.618240</td>\n",
       "      <td>28.0</td>\n",
       "      <td>454.378089</td>\n",
       "      <td>763231.0</td>\n",
       "    </tr>\n",
       "    <tr>\n",
       "      <th>HARYANA</th>\n",
       "      <td>4068</td>\n",
       "      <td>0.0</td>\n",
       "      <td>118.0</td>\n",
       "      <td>2.961652</td>\n",
       "      <td>0.0</td>\n",
       "      <td>7.547701</td>\n",
       "      <td>12048.0</td>\n",
       "    </tr>\n",
       "    <tr>\n",
       "      <th>ANDHRA PRADESH</th>\n",
       "      <td>4836</td>\n",
       "      <td>0.0</td>\n",
       "      <td>179.0</td>\n",
       "      <td>3.517370</td>\n",
       "      <td>0.0</td>\n",
       "      <td>8.804760</td>\n",
       "      <td>17010.0</td>\n",
       "    </tr>\n",
       "    <tr>\n",
       "      <th>PUNJAB</th>\n",
       "      <td>4874</td>\n",
       "      <td>0.0</td>\n",
       "      <td>448.0</td>\n",
       "      <td>14.948502</td>\n",
       "      <td>8.0</td>\n",
       "      <td>25.272373</td>\n",
       "      <td>72859.0</td>\n",
       "    </tr>\n",
       "    <tr>\n",
       "      <th>TAMIL NADU</th>\n",
       "      <td>6486</td>\n",
       "      <td>0.0</td>\n",
       "      <td>13787.0</td>\n",
       "      <td>634.457601</td>\n",
       "      <td>11.0</td>\n",
       "      <td>2032.364822</td>\n",
       "      <td>4115092.0</td>\n",
       "    </tr>\n",
       "    <tr>\n",
       "      <th>UTTAR PRADESH</th>\n",
       "      <td>6486</td>\n",
       "      <td>0.0</td>\n",
       "      <td>1203.0</td>\n",
       "      <td>43.638760</td>\n",
       "      <td>0.0</td>\n",
       "      <td>131.554427</td>\n",
       "      <td>283041.0</td>\n",
       "    </tr>\n",
       "    <tr>\n",
       "      <th>GUJARAT</th>\n",
       "      <td>7292</td>\n",
       "      <td>0.0</td>\n",
       "      <td>1890.0</td>\n",
       "      <td>84.943774</td>\n",
       "      <td>25.0</td>\n",
       "      <td>151.453904</td>\n",
       "      <td>619410.0</td>\n",
       "    </tr>\n",
       "    <tr>\n",
       "      <th>WEST BENGAL</th>\n",
       "      <td>7292</td>\n",
       "      <td>0.0</td>\n",
       "      <td>4962.0</td>\n",
       "      <td>212.441306</td>\n",
       "      <td>40.0</td>\n",
       "      <td>580.958702</td>\n",
       "      <td>1549122.0</td>\n",
       "    </tr>\n",
       "    <tr>\n",
       "      <th>MAHARASHTRA</th>\n",
       "      <td>11322</td>\n",
       "      <td>0.0</td>\n",
       "      <td>1754.0</td>\n",
       "      <td>66.730701</td>\n",
       "      <td>27.0</td>\n",
       "      <td>124.410140</td>\n",
       "      <td>755525.0</td>\n",
       "    </tr>\n",
       "  </tbody>\n",
       "</table>\n",
       "</div>"
      ],
      "text/plain": [
       "                count  min      max        mean  median          std  \\\n",
       "state                                                                  \n",
       "DELHI             806  0.0   1488.0  168.486352   136.0   148.757794   \n",
       "UTTARAKHAND      1612  0.0    383.0   24.782258    20.0    27.525605   \n",
       "TELANGANA        1612  0.0   1038.0   56.153226     0.0    88.913544   \n",
       "KERALA           1650  0.0   3369.0  496.008485    39.5   722.016808   \n",
       "CHHATTISGARH     1650  0.0   1111.0  181.298788    22.5   241.012685   \n",
       "MADHYA PRADESH   1650  0.0   2350.0  348.672121    87.0   455.859267   \n",
       "TRIPURA          2456  0.0    997.0   82.313111    32.0   142.665541   \n",
       "JHARKHAND        2456  0.0    833.0   69.036645    20.0   137.794878   \n",
       "BIHAR            3262  0.0   7691.0  419.025445    25.0  1111.541528   \n",
       "KARNATAKA        3262  0.0   5202.0  519.345494    35.0   972.285346   \n",
       "ORISSA           3262  0.0   5831.0  408.938688    45.0   950.226384   \n",
       "ASSAM            4068  0.0   3208.0  187.618240    28.0   454.378089   \n",
       "HARYANA          4068  0.0    118.0    2.961652     0.0     7.547701   \n",
       "ANDHRA PRADESH   4836  0.0    179.0    3.517370     0.0     8.804760   \n",
       "PUNJAB           4874  0.0    448.0   14.948502     8.0    25.272373   \n",
       "TAMIL NADU       6486  0.0  13787.0  634.457601    11.0  2032.364822   \n",
       "UTTAR PRADESH    6486  0.0   1203.0   43.638760     0.0   131.554427   \n",
       "GUJARAT          7292  0.0   1890.0   84.943774    25.0   151.453904   \n",
       "WEST BENGAL      7292  0.0   4962.0  212.441306    40.0   580.958702   \n",
       "MAHARASHTRA     11322  0.0   1754.0   66.730701    27.0   124.410140   \n",
       "\n",
       "                      sum  \n",
       "state                      \n",
       "DELHI            135800.0  \n",
       "UTTARAKHAND       39949.0  \n",
       "TELANGANA         90519.0  \n",
       "KERALA           818414.0  \n",
       "CHHATTISGARH     299143.0  \n",
       "MADHYA PRADESH   575309.0  \n",
       "TRIPURA          202161.0  \n",
       "JHARKHAND        169554.0  \n",
       "BIHAR           1366861.0  \n",
       "KARNATAKA       1694105.0  \n",
       "ORISSA          1333958.0  \n",
       "ASSAM            763231.0  \n",
       "HARYANA           12048.0  \n",
       "ANDHRA PRADESH    17010.0  \n",
       "PUNJAB            72859.0  \n",
       "TAMIL NADU      4115092.0  \n",
       "UTTAR PRADESH    283041.0  \n",
       "GUJARAT          619410.0  \n",
       "WEST BENGAL     1549122.0  \n",
       "MAHARASHTRA      755525.0  "
      ]
     },
     "execution_count": 17,
     "metadata": {},
     "output_type": "execute_result"
    }
   ],
   "source": [
    "train.groupby('state')['case_count'].agg(['count','min','max','mean','median','std','sum']).sort_values(by='count')\n",
    "# Although the count of Maharashtra is maximum, the sum of all case counts is maximum for Tamil Nadu."
   ]
  },
  {
   "cell_type": "code",
   "execution_count": 18,
   "metadata": {
    "collapsed": false
   },
   "outputs": [
    {
     "data": {
      "text/plain": [
       "<matplotlib.axes._subplots.AxesSubplot at 0x2235aeb37f0>"
      ]
     },
     "execution_count": 18,
     "metadata": {},
     "output_type": "execute_result"
    },
    {
     "data": {
      "image/png": "[encoded data removed]",
      "text/plain": [
       "<Figure size 432x288 with 1 Axes>"
      ]
     },
     "metadata": {},
     "output_type": "display_data"
    }
   ],
   "source": [
    "train.groupby('state')['case_count'].sum().sort_values().plot(kind='bar')"
   ]
  },
  {
   "cell_type": "code",
   "execution_count": 19,
   "metadata": {
    "collapsed": false
   },
   "outputs": [
    {
     "data": {
      "text/html": [
       "<div>\n",
       "<table border=\"1\" class=\"dataframe\">\n",
       "  <thead>\n",
       "    <tr style=\"text-align: right;\">\n",
       "      <th></th>\n",
       "      <th>count</th>\n",
       "      <th>min</th>\n",
       "      <th>max</th>\n",
       "      <th>mean</th>\n",
       "      <th>median</th>\n",
       "      <th>std</th>\n",
       "      <th>sum</th>\n",
       "    </tr>\n",
       "    <tr>\n",
       "      <th>zone</th>\n",
       "      <th></th>\n",
       "      <th></th>\n",
       "      <th></th>\n",
       "      <th></th>\n",
       "      <th></th>\n",
       "      <th></th>\n",
       "      <th></th>\n",
       "    </tr>\n",
       "  </thead>\n",
       "  <tbody>\n",
       "    <tr>\n",
       "      <th>CENTRAL</th>\n",
       "      <td>1612</td>\n",
       "      <td>0.0</td>\n",
       "      <td>609.0</td>\n",
       "      <td>23.082506</td>\n",
       "      <td>11.0</td>\n",
       "      <td>36.657118</td>\n",
       "      <td>37209.0</td>\n",
       "    </tr>\n",
       "    <tr>\n",
       "      <th>NORTH</th>\n",
       "      <td>8060</td>\n",
       "      <td>0.0</td>\n",
       "      <td>1488.0</td>\n",
       "      <td>27.383002</td>\n",
       "      <td>6.0</td>\n",
       "      <td>69.671582</td>\n",
       "      <td>220707.0</td>\n",
       "    </tr>\n",
       "    <tr>\n",
       "      <th>WEST</th>\n",
       "      <td>16926</td>\n",
       "      <td>0.0</td>\n",
       "      <td>1890.0</td>\n",
       "      <td>46.985053</td>\n",
       "      <td>23.0</td>\n",
       "      <td>77.373460</td>\n",
       "      <td>795269.0</td>\n",
       "    </tr>\n",
       "    <tr>\n",
       "      <th>SOUTH</th>\n",
       "      <td>18538</td>\n",
       "      <td>0.0</td>\n",
       "      <td>1143.0</td>\n",
       "      <td>26.973784</td>\n",
       "      <td>8.0</td>\n",
       "      <td>54.089844</td>\n",
       "      <td>500040.0</td>\n",
       "    </tr>\n",
       "    <tr>\n",
       "      <th>EAST</th>\n",
       "      <td>21762</td>\n",
       "      <td>0.0</td>\n",
       "      <td>1657.0</td>\n",
       "      <td>29.170802</td>\n",
       "      <td>16.0</td>\n",
       "      <td>48.989433</td>\n",
       "      <td>634815.0</td>\n",
       "    </tr>\n",
       "  </tbody>\n",
       "</table>\n",
       "</div>"
      ],
      "text/plain": [
       "         count  min     max       mean  median        std       sum\n",
       "zone                                                               \n",
       "CENTRAL   1612  0.0   609.0  23.082506    11.0  36.657118   37209.0\n",
       "NORTH     8060  0.0  1488.0  27.383002     6.0  69.671582  220707.0\n",
       "WEST     16926  0.0  1890.0  46.985053    23.0  77.373460  795269.0\n",
       "SOUTH    18538  0.0  1143.0  26.973784     8.0  54.089844  500040.0\n",
       "EAST     21762  0.0  1657.0  29.170802    16.0  48.989433  634815.0"
      ]
     },
     "execution_count": 19,
     "metadata": {},
     "output_type": "execute_result"
    }
   ],
   "source": [
    "train.groupby('zone')['case_count'].agg(['count','min','max','mean','median','std','sum']).sort_values(by='count')\n",
    "# Even here, although the count of East zone is maximum, but the total case_counts received in West zone is highest."
   ]
  },
  {
   "cell_type": "code",
   "execution_count": 20,
   "metadata": {
    "collapsed": false
   },
   "outputs": [
    {
     "data": {
      "text/plain": [
       "<matplotlib.axes._subplots.AxesSubplot at 0x2235b0dafd0>"
      ]
     },
     "execution_count": 20,
     "metadata": {},
     "output_type": "execute_result"
    },
    {
     "data": {
      "image/png": "[encoded data removed]",
      "text/plain": [
       "<Figure size 432x288 with 1 Axes>"
      ]
     },
     "metadata": {},
     "output_type": "display_data"
    }
   ],
   "source": [
    "train.groupby('zone')['case_count'].sum().sort_values().plot(kind='bar')"
   ]
  },
  {
   "cell_type": "code",
   "execution_count": 21,
   "metadata": {
    "collapsed": false
   },
   "outputs": [],
   "source": [
    "# Let's create some additional datetime based features\n",
    "train['year'] = train.application_date.dt.year\n",
    "train['month'] = train.application_date.dt.month\n",
    "train['dayofweek'] = train.application_date.dt.dayofweek\n",
    "train['day'] = train.application_date.dt.day\n",
    "train['quarter'] = train.application_date.dt.quarter\n",
    "train['is_month_start'] = train.application_date.dt.is_month_start\n",
    "train['is_month_end'] = train.application_date.dt.is_month_end\n",
    "train['is_quarter_start'] = train.application_date.dt.is_quarter_start\n",
    "train['is_quarter_end'] = train.application_date.dt.is_quarter_end"
   ]
  },
  {
   "cell_type": "code",
   "execution_count": 22,
   "metadata": {
    "collapsed": false
   },
   "outputs": [
    {
     "data": {
      "text/html": [
       "<div>\n",
       "<table border=\"1\" class=\"dataframe\">\n",
       "  <thead>\n",
       "    <tr style=\"text-align: right;\">\n",
       "      <th></th>\n",
       "      <th>application_date</th>\n",
       "      <th>segment</th>\n",
       "      <th>branch_id</th>\n",
       "      <th>state</th>\n",
       "      <th>zone</th>\n",
       "      <th>case_count</th>\n",
       "      <th>year</th>\n",
       "      <th>month</th>\n",
       "      <th>dayofweek</th>\n",
       "      <th>day</th>\n",
       "      <th>quarter</th>\n",
       "      <th>is_month_start</th>\n",
       "      <th>is_month_end</th>\n",
       "      <th>is_quarter_start</th>\n",
       "      <th>is_quarter_end</th>\n",
       "    </tr>\n",
       "  </thead>\n",
       "  <tbody>\n",
       "    <tr>\n",
       "      <th>0</th>\n",
       "      <td>2017-04-01</td>\n",
       "      <td>1</td>\n",
       "      <td>1.0</td>\n",
       "      <td>WEST BENGAL</td>\n",
       "      <td>EAST</td>\n",
       "      <td>40.0</td>\n",
       "      <td>2017</td>\n",
       "      <td>4</td>\n",
       "      <td>5</td>\n",
       "      <td>1</td>\n",
       "      <td>2</td>\n",
       "      <td>True</td>\n",
       "      <td>False</td>\n",
       "      <td>True</td>\n",
       "      <td>False</td>\n",
       "    </tr>\n",
       "    <tr>\n",
       "      <th>1</th>\n",
       "      <td>2017-04-03</td>\n",
       "      <td>1</td>\n",
       "      <td>1.0</td>\n",
       "      <td>WEST BENGAL</td>\n",
       "      <td>EAST</td>\n",
       "      <td>5.0</td>\n",
       "      <td>2017</td>\n",
       "      <td>4</td>\n",
       "      <td>0</td>\n",
       "      <td>3</td>\n",
       "      <td>2</td>\n",
       "      <td>False</td>\n",
       "      <td>False</td>\n",
       "      <td>False</td>\n",
       "      <td>False</td>\n",
       "    </tr>\n",
       "    <tr>\n",
       "      <th>2</th>\n",
       "      <td>2017-04-04</td>\n",
       "      <td>1</td>\n",
       "      <td>1.0</td>\n",
       "      <td>WEST BENGAL</td>\n",
       "      <td>EAST</td>\n",
       "      <td>4.0</td>\n",
       "      <td>2017</td>\n",
       "      <td>4</td>\n",
       "      <td>1</td>\n",
       "      <td>4</td>\n",
       "      <td>2</td>\n",
       "      <td>False</td>\n",
       "      <td>False</td>\n",
       "      <td>False</td>\n",
       "      <td>False</td>\n",
       "    </tr>\n",
       "    <tr>\n",
       "      <th>3</th>\n",
       "      <td>2017-04-05</td>\n",
       "      <td>1</td>\n",
       "      <td>1.0</td>\n",
       "      <td>WEST BENGAL</td>\n",
       "      <td>EAST</td>\n",
       "      <td>113.0</td>\n",
       "      <td>2017</td>\n",
       "      <td>4</td>\n",
       "      <td>2</td>\n",
       "      <td>5</td>\n",
       "      <td>2</td>\n",
       "      <td>False</td>\n",
       "      <td>False</td>\n",
       "      <td>False</td>\n",
       "      <td>False</td>\n",
       "    </tr>\n",
       "    <tr>\n",
       "      <th>4</th>\n",
       "      <td>2017-04-07</td>\n",
       "      <td>1</td>\n",
       "      <td>1.0</td>\n",
       "      <td>WEST BENGAL</td>\n",
       "      <td>EAST</td>\n",
       "      <td>76.0</td>\n",
       "      <td>2017</td>\n",
       "      <td>4</td>\n",
       "      <td>4</td>\n",
       "      <td>7</td>\n",
       "      <td>2</td>\n",
       "      <td>False</td>\n",
       "      <td>False</td>\n",
       "      <td>False</td>\n",
       "      <td>False</td>\n",
       "    </tr>\n",
       "  </tbody>\n",
       "</table>\n",
       "</div>"
      ],
      "text/plain": [
       "  application_date  segment  branch_id        state  zone  case_count  year  \\\n",
       "0       2017-04-01        1        1.0  WEST BENGAL  EAST        40.0  2017   \n",
       "1       2017-04-03        1        1.0  WEST BENGAL  EAST         5.0  2017   \n",
       "2       2017-04-04        1        1.0  WEST BENGAL  EAST         4.0  2017   \n",
       "3       2017-04-05        1        1.0  WEST BENGAL  EAST       113.0  2017   \n",
       "4       2017-04-07        1        1.0  WEST BENGAL  EAST        76.0  2017   \n",
       "\n",
       "   month  dayofweek  day  quarter is_month_start is_month_end  \\\n",
       "0      4          5    1        2           True        False   \n",
       "1      4          0    3        2          False        False   \n",
       "2      4          1    4        2          False        False   \n",
       "3      4          2    5        2          False        False   \n",
       "4      4          4    7        2          False        False   \n",
       "\n",
       "  is_quarter_start is_quarter_end  \n",
       "0             True          False  \n",
       "1            False          False  \n",
       "2            False          False  \n",
       "3            False          False  \n",
       "4            False          False  "
      ]
     },
     "execution_count": 22,
     "metadata": {},
     "output_type": "execute_result"
    }
   ],
   "source": [
    "train.head()"
   ]
  },
  {
   "cell_type": "code",
   "execution_count": 23,
   "metadata": {
    "collapsed": false
   },
   "outputs": [
    {
     "data": {
      "text/plain": [
       "<matplotlib.legend.Legend at 0x2235b0cff60>"
      ]
     },
     "execution_count": 23,
     "metadata": {},
     "output_type": "execute_result"
    },
    {
     "data": {
      "image/png": "[encoded data removed]",
      "text/plain": [
       "<Figure size 720x432 with 1 Axes>"
      ]
     },
     "metadata": {},
     "output_type": "display_data"
    }
   ],
   "source": [
    "train.set_index('application_date').resample('D')['case_count'].sum().plot(kind='line',figsize=(10,6),label='Total_case_Count_by_Day')\n",
    "plt.title(\"Total Case Count by Day\")\n",
    "plt.xlabel('Day')\n",
    "plt.ylabel(\"Sum of Case Counts\")\n",
    "plt.legend(loc='best')\n",
    "# We can see some kind of trend here, the sum total of case counts increases for sometime and then stays almost same. \n",
    "# We can also see a spike that is apart from the trend around July-Oct of 2018."
   ]
  },
  {
   "cell_type": "code",
   "execution_count": 24,
   "metadata": {
    "collapsed": false
   },
   "outputs": [
    {
     "data": {
      "text/plain": [
       "<matplotlib.legend.Legend at 0x2235b3590f0>"
      ]
     },
     "execution_count": 24,
     "metadata": {},
     "output_type": "execute_result"
    },
    {
     "data": {
      "image/png": "[encoded data removed]",
      "text/plain": [
       "<Figure size 720x432 with 1 Axes>"
      ]
     },
     "metadata": {},
     "output_type": "display_data"
    }
   ],
   "source": [
    "train.set_index('application_date')['case_count'].plot(kind='line',figsize=(10,6),label='Case_Counts_by_Day')\n",
    "plt.title(\"Case Count by Day\")\n",
    "plt.xlabel('Day')\n",
    "plt.ylabel(\"Case Counts\")\n",
    "plt.legend(loc='best')\n",
    "# We can see increasing and decreasing trends here"
   ]
  },
  {
   "cell_type": "code",
   "execution_count": 25,
   "metadata": {
    "collapsed": false
   },
   "outputs": [
    {
     "data": {
      "text/plain": [
       "<matplotlib.axes._subplots.AxesSubplot at 0x2235b359cf8>"
      ]
     },
     "execution_count": 25,
     "metadata": {},
     "output_type": "execute_result"
    },
    {
     "data": {
      "image/png": "[encoded data removed]",
      "text/plain": [
       "<Figure size 432x288 with 1 Axes>"
      ]
     },
     "metadata": {},
     "output_type": "display_data"
    }
   ],
   "source": [
    "train.groupby('month')['case_count'].sum().sort_values().plot(kind='bar')\n",
    "# case_count sum is maximum during the month of June followed by July,March and May which are close to each other. It is minimum\n",
    "# in the month of August."
   ]
  },
  {
   "cell_type": "code",
   "execution_count": 26,
   "metadata": {
    "collapsed": false
   },
   "outputs": [
    {
     "data": {
      "text/html": [
       "<div>\n",
       "<table border=\"1\" class=\"dataframe\">\n",
       "  <thead>\n",
       "    <tr style=\"text-align: right;\">\n",
       "      <th></th>\n",
       "      <th>count</th>\n",
       "      <th>min</th>\n",
       "      <th>max</th>\n",
       "      <th>sum</th>\n",
       "      <th>mean</th>\n",
       "    </tr>\n",
       "    <tr>\n",
       "      <th>dayofweek</th>\n",
       "      <th></th>\n",
       "      <th></th>\n",
       "      <th></th>\n",
       "      <th></th>\n",
       "      <th></th>\n",
       "    </tr>\n",
       "  </thead>\n",
       "  <tbody>\n",
       "    <tr>\n",
       "      <th>6</th>\n",
       "      <td>11149</td>\n",
       "      <td>0.0</td>\n",
       "      <td>10250.0</td>\n",
       "      <td>1436647.0</td>\n",
       "      <td>128.858821</td>\n",
       "    </tr>\n",
       "    <tr>\n",
       "      <th>5</th>\n",
       "      <td>11398</td>\n",
       "      <td>0.0</td>\n",
       "      <td>13787.0</td>\n",
       "      <td>2135403.0</td>\n",
       "      <td>187.348921</td>\n",
       "    </tr>\n",
       "    <tr>\n",
       "      <th>2</th>\n",
       "      <td>11548</td>\n",
       "      <td>0.0</td>\n",
       "      <td>11160.0</td>\n",
       "      <td>2314316.0</td>\n",
       "      <td>200.408382</td>\n",
       "    </tr>\n",
       "    <tr>\n",
       "      <th>4</th>\n",
       "      <td>11548</td>\n",
       "      <td>0.0</td>\n",
       "      <td>13118.0</td>\n",
       "      <td>2262137.0</td>\n",
       "      <td>195.889938</td>\n",
       "    </tr>\n",
       "    <tr>\n",
       "      <th>0</th>\n",
       "      <td>11564</td>\n",
       "      <td>0.0</td>\n",
       "      <td>10805.0</td>\n",
       "      <td>2173422.0</td>\n",
       "      <td>187.947250</td>\n",
       "    </tr>\n",
       "    <tr>\n",
       "      <th>1</th>\n",
       "      <td>11564</td>\n",
       "      <td>0.0</td>\n",
       "      <td>11506.0</td>\n",
       "      <td>2280995.0</td>\n",
       "      <td>197.249654</td>\n",
       "    </tr>\n",
       "    <tr>\n",
       "      <th>3</th>\n",
       "      <td>11631</td>\n",
       "      <td>0.0</td>\n",
       "      <td>12908.0</td>\n",
       "      <td>2310191.0</td>\n",
       "      <td>198.623592</td>\n",
       "    </tr>\n",
       "  </tbody>\n",
       "</table>\n",
       "</div>"
      ],
      "text/plain": [
       "           count  min      max        sum        mean\n",
       "dayofweek                                            \n",
       "6          11149  0.0  10250.0  1436647.0  128.858821\n",
       "5          11398  0.0  13787.0  2135403.0  187.348921\n",
       "2          11548  0.0  11160.0  2314316.0  200.408382\n",
       "4          11548  0.0  13118.0  2262137.0  195.889938\n",
       "0          11564  0.0  10805.0  2173422.0  187.947250\n",
       "1          11564  0.0  11506.0  2280995.0  197.249654\n",
       "3          11631  0.0  12908.0  2310191.0  198.623592"
      ]
     },
     "execution_count": 26,
     "metadata": {},
     "output_type": "execute_result"
    }
   ],
   "source": [
    "train.groupby('dayofweek')['case_count'].agg(['count','min','max','sum','mean']).sort_values(by='count')\n",
    "# Thursday has the highest occurence and Sunday has the least. \n",
    "# Wednesday has the highest sum total of case counts."
   ]
  },
  {
   "cell_type": "code",
   "execution_count": 27,
   "metadata": {
    "collapsed": false
   },
   "outputs": [
    {
     "data": {
      "text/html": [
       "<div>\n",
       "<table border=\"1\" class=\"dataframe\">\n",
       "  <thead>\n",
       "    <tr style=\"text-align: right;\">\n",
       "      <th></th>\n",
       "      <th></th>\n",
       "      <th>count</th>\n",
       "      <th>min</th>\n",
       "      <th>max</th>\n",
       "      <th>sum</th>\n",
       "      <th>mean</th>\n",
       "    </tr>\n",
       "    <tr>\n",
       "      <th>year</th>\n",
       "      <th>quarter</th>\n",
       "      <th></th>\n",
       "      <th></th>\n",
       "      <th></th>\n",
       "      <th></th>\n",
       "      <th></th>\n",
       "    </tr>\n",
       "  </thead>\n",
       "  <tbody>\n",
       "    <tr>\n",
       "      <th rowspan=\"3\" valign=\"top\">2017</th>\n",
       "      <th>2</th>\n",
       "      <td>8428</td>\n",
       "      <td>0.0</td>\n",
       "      <td>5274.0</td>\n",
       "      <td>706232.0</td>\n",
       "      <td>83.795918</td>\n",
       "    </tr>\n",
       "    <tr>\n",
       "      <th>3</th>\n",
       "      <td>8361</td>\n",
       "      <td>0.0</td>\n",
       "      <td>8884.0</td>\n",
       "      <td>1197941.0</td>\n",
       "      <td>143.277240</td>\n",
       "    </tr>\n",
       "    <tr>\n",
       "      <th>4</th>\n",
       "      <td>9108</td>\n",
       "      <td>0.0</td>\n",
       "      <td>9963.0</td>\n",
       "      <td>1449814.0</td>\n",
       "      <td>159.180281</td>\n",
       "    </tr>\n",
       "    <tr>\n",
       "      <th rowspan=\"4\" valign=\"top\">2018</th>\n",
       "      <th>1</th>\n",
       "      <td>8578</td>\n",
       "      <td>0.0</td>\n",
       "      <td>11288.0</td>\n",
       "      <td>1728408.0</td>\n",
       "      <td>201.493122</td>\n",
       "    </tr>\n",
       "    <tr>\n",
       "      <th>2</th>\n",
       "      <td>9009</td>\n",
       "      <td>0.0</td>\n",
       "      <td>11241.0</td>\n",
       "      <td>1812629.0</td>\n",
       "      <td>201.202020</td>\n",
       "    </tr>\n",
       "    <tr>\n",
       "      <th>3</th>\n",
       "      <td>9108</td>\n",
       "      <td>0.0</td>\n",
       "      <td>12908.0</td>\n",
       "      <td>2027253.0</td>\n",
       "      <td>222.579381</td>\n",
       "    </tr>\n",
       "    <tr>\n",
       "      <th>4</th>\n",
       "      <td>9108</td>\n",
       "      <td>0.0</td>\n",
       "      <td>11536.0</td>\n",
       "      <td>1919816.0</td>\n",
       "      <td>210.783487</td>\n",
       "    </tr>\n",
       "    <tr>\n",
       "      <th rowspan=\"3\" valign=\"top\">2019</th>\n",
       "      <th>1</th>\n",
       "      <td>8910</td>\n",
       "      <td>0.0</td>\n",
       "      <td>13787.0</td>\n",
       "      <td>1944961.0</td>\n",
       "      <td>218.289675</td>\n",
       "    </tr>\n",
       "    <tr>\n",
       "      <th>2</th>\n",
       "      <td>9009</td>\n",
       "      <td>0.0</td>\n",
       "      <td>10629.0</td>\n",
       "      <td>1734401.0</td>\n",
       "      <td>192.518704</td>\n",
       "    </tr>\n",
       "    <tr>\n",
       "      <th>3</th>\n",
       "      <td>783</td>\n",
       "      <td>0.0</td>\n",
       "      <td>10099.0</td>\n",
       "      <td>391656.0</td>\n",
       "      <td>500.199234</td>\n",
       "    </tr>\n",
       "  </tbody>\n",
       "</table>\n",
       "</div>"
      ],
      "text/plain": [
       "              count  min      max        sum        mean\n",
       "year quarter                                            \n",
       "2017 2         8428  0.0   5274.0   706232.0   83.795918\n",
       "     3         8361  0.0   8884.0  1197941.0  143.277240\n",
       "     4         9108  0.0   9963.0  1449814.0  159.180281\n",
       "2018 1         8578  0.0  11288.0  1728408.0  201.493122\n",
       "     2         9009  0.0  11241.0  1812629.0  201.202020\n",
       "     3         9108  0.0  12908.0  2027253.0  222.579381\n",
       "     4         9108  0.0  11536.0  1919816.0  210.783487\n",
       "2019 1         8910  0.0  13787.0  1944961.0  218.289675\n",
       "     2         9009  0.0  10629.0  1734401.0  192.518704\n",
       "     3          783  0.0  10099.0   391656.0  500.199234"
      ]
     },
     "execution_count": 27,
     "metadata": {},
     "output_type": "execute_result"
    }
   ],
   "source": [
    "train.groupby(['year','quarter'])['case_count'].agg(['count','min','max','sum','mean'])\n",
    "# Count is maximum during the 4th Quarter of 2017 and 3rd and 4th quarter of 2018.\n",
    "# Sum is maximum during 3rd quarter of 2017."
   ]
  },
  {
   "cell_type": "code",
   "execution_count": 28,
   "metadata": {
    "collapsed": true
   },
   "outputs": [],
   "source": [
    "test['year'] = test.application_date.dt.year\n",
    "test['month'] = test.application_date.dt.month\n",
    "test['dayofweek'] = test.application_date.dt.dayofweek\n",
    "test['day'] = test.application_date.dt.day\n",
    "test['quarter'] = test.application_date.dt.quarter\n",
    "test['is_month_start'] = test.application_date.dt.is_month_start\n",
    "test['is_month_end'] = test.application_date.dt.is_month_end\n",
    "test['is_quarter_start'] = test.application_date.dt.is_quarter_start\n",
    "test['is_quarter_end'] = test.application_date.dt.is_quarter_end"
   ]
  },
  {
   "cell_type": "code",
   "execution_count": null,
   "metadata": {
    "collapsed": true
   },
   "outputs": [],
   "source": []
  },
  {
   "cell_type": "markdown",
   "metadata": {},
   "source": [
    "#### Defining the Evaluation Metric"
   ]
  },
  {
   "cell_type": "code",
   "execution_count": 29,
   "metadata": {
    "collapsed": true
   },
   "outputs": [],
   "source": [
    "def mean_absolute_percentage_error(y_true, y_pred): \n",
    "    y_true, y_pred = np.array(y_true), np.array(y_pred)\n",
    "    return np.mean(np.abs((y_pred - y_true) / y_pred)) * 100"
   ]
  },
  {
   "cell_type": "markdown",
   "metadata": {},
   "source": [
    "#### Model Building"
   ]
  },
  {
   "cell_type": "markdown",
   "metadata": {},
   "source": [
    "1. Since we are supposed to forecast sum of case counts at Country level, it makes sense to create dataframe using the current train and test dataframes. \n",
    "2. We can also create additional feature like we did earlier using this new dataframe."
   ]
  },
  {
   "cell_type": "code",
   "execution_count": 30,
   "metadata": {
    "collapsed": false
   },
   "outputs": [],
   "source": [
    "df_train.drop(['branch_id','state','zone'],axis=1,inplace=True)"
   ]
  },
  {
   "cell_type": "code",
   "execution_count": 31,
   "metadata": {
    "collapsed": false
   },
   "outputs": [
    {
     "data": {
      "text/html": [
       "<div>\n",
       "<table border=\"1\" class=\"dataframe\">\n",
       "  <thead>\n",
       "    <tr style=\"text-align: right;\">\n",
       "      <th></th>\n",
       "      <th>application_date</th>\n",
       "      <th>segment</th>\n",
       "      <th>case_count</th>\n",
       "    </tr>\n",
       "  </thead>\n",
       "  <tbody>\n",
       "    <tr>\n",
       "      <th>0</th>\n",
       "      <td>2017-04-01</td>\n",
       "      <td>1</td>\n",
       "      <td>299.0</td>\n",
       "    </tr>\n",
       "    <tr>\n",
       "      <th>1</th>\n",
       "      <td>2017-04-01</td>\n",
       "      <td>2</td>\n",
       "      <td>897.0</td>\n",
       "    </tr>\n",
       "    <tr>\n",
       "      <th>2</th>\n",
       "      <td>2017-04-02</td>\n",
       "      <td>2</td>\n",
       "      <td>605.0</td>\n",
       "    </tr>\n",
       "    <tr>\n",
       "      <th>3</th>\n",
       "      <td>2017-04-03</td>\n",
       "      <td>1</td>\n",
       "      <td>42.0</td>\n",
       "    </tr>\n",
       "    <tr>\n",
       "      <th>4</th>\n",
       "      <td>2017-04-03</td>\n",
       "      <td>2</td>\n",
       "      <td>2016.0</td>\n",
       "    </tr>\n",
       "  </tbody>\n",
       "</table>\n",
       "</div>"
      ],
      "text/plain": [
       "  application_date  segment  case_count\n",
       "0       2017-04-01        1       299.0\n",
       "1       2017-04-01        2       897.0\n",
       "2       2017-04-02        2       605.0\n",
       "3       2017-04-03        1        42.0\n",
       "4       2017-04-03        2      2016.0"
      ]
     },
     "execution_count": 31,
     "metadata": {},
     "output_type": "execute_result"
    }
   ],
   "source": [
    "df_train = df_train.groupby(['application_date','segment'],as_index=False)['case_count'].sum()\n",
    "df_train.head()"
   ]
  },
  {
   "cell_type": "code",
   "execution_count": 32,
   "metadata": {
    "collapsed": true
   },
   "outputs": [],
   "source": [
    "holidays = ['2017-04-05','2017-04-09','2017-04-14','2017-05-01',\n",
    "       '2017-05-10', '2017-06-25', '2017-06-26', '2017-08-07',\n",
    "       '2017-08-14', '2017-08-15', '2017-08-25', '2017-09-02',\n",
    "       '2017-09-04', '2017-09-30', '2017-10-01', '2017-10-02',\n",
    "       '2017-10-19', '2017-12-01', '2017-12-25', '2018-01-01', \n",
    "       '2018-01-14', '2018-01-22', '2018-01-26',\n",
    "       '2018-01-31', '2018-02-10', '2018-02-14', '2018-02-19',\n",
    "       '2018-03-01', '2018-03-02', '2018-03-18', '2018-03-25',\n",
    "       '2018-03-29', '2018-03-30', '2018-04-01', '2018-04-14',\n",
    "       '2018-04-15', '2018-04-30', '2018-05-09', '2018-06-15',\n",
    "       '2018-06-16', '2018-07-14', '2018-08-15', '2018-08-17',\n",
    "       '2018-08-22', '2018-08-25', '2018-08-26', '2018-09-03',\n",
    "       '2018-09-13', '2018-09-21', '2018-10-02', '2018-10-16',\n",
    "       '2018-10-17', '2018-10-18', '2018-10-19', '2018-10-24',\n",
    "       '2018-10-27', '2018-11-06', '2018-11-07', '2018-11-08',\n",
    "       '2018-11-09', '2018-11-13', '2018-11-21', '2018-11-23',\n",
    "       '2018-11-24', '2018-12-24', '2018-12-25', '2019-01-01',\n",
    "       '2019-01-13', '2019-01-14', '2019-01-15', '2019-01-26',\n",
    "       '2019-02-10', '2019-02-19', '2019-03-01', '2019-03-04',\n",
    "       '2019-03-20', '2019-03-21', '2019-04-06', '2019-04-13',\n",
    "       '2019-04-14', '2019-04-15', '2019-04-17', '2019-04-19',\n",
    "       '2019-04-21', '2019-05-09', '2019-05-18', '2019-05-31',\n",
    "       '2019-06-05', '2019-07-04', '2019-08-12', '2019-08-15',\n",
    "       '2019-08-17', '2019-08-24', '2019-09-02', '2019-09-10',\n",
    "       '2019-09-11', '2019-10-02', '2019-10-05', '2019-10-06',\n",
    "       '2019-10-07', '2019-10-08', '2019-10-13', '2019-10-17',\n",
    "       '2019-10-27', '2019-10-28', '2019-10-29', '2019-11-02',\n",
    "       '2019-11-10', '2019-11-12', '2019-11-24', '2019-12-24',\n",
    "       '2019-12-25']\n",
    "df_train['Holiday'] = (df_train.application_date.dt.date.astype(\"str\").isin(holidays)).astype(int)\n",
    "df_test['Holiday'] = (df_test.application_date.dt.date.astype(\"str\").isin(holidays)).astype(int)"
   ]
  },
  {
   "cell_type": "code",
   "execution_count": 33,
   "metadata": {
    "collapsed": false
   },
   "outputs": [
    {
     "data": {
      "text/html": [
       "<div>\n",
       "<table border=\"1\" class=\"dataframe\">\n",
       "  <thead>\n",
       "    <tr style=\"text-align: right;\">\n",
       "      <th></th>\n",
       "      <th>application_date</th>\n",
       "      <th>segment</th>\n",
       "      <th>case_count</th>\n",
       "      <th>Holiday</th>\n",
       "    </tr>\n",
       "  </thead>\n",
       "  <tbody>\n",
       "    <tr>\n",
       "      <th>0</th>\n",
       "      <td>2017-04-01</td>\n",
       "      <td>1</td>\n",
       "      <td>299.0</td>\n",
       "      <td>0</td>\n",
       "    </tr>\n",
       "    <tr>\n",
       "      <th>1</th>\n",
       "      <td>2017-04-01</td>\n",
       "      <td>2</td>\n",
       "      <td>897.0</td>\n",
       "      <td>0</td>\n",
       "    </tr>\n",
       "    <tr>\n",
       "      <th>2</th>\n",
       "      <td>2017-04-02</td>\n",
       "      <td>2</td>\n",
       "      <td>605.0</td>\n",
       "      <td>0</td>\n",
       "    </tr>\n",
       "    <tr>\n",
       "      <th>3</th>\n",
       "      <td>2017-04-03</td>\n",
       "      <td>1</td>\n",
       "      <td>42.0</td>\n",
       "      <td>0</td>\n",
       "    </tr>\n",
       "    <tr>\n",
       "      <th>4</th>\n",
       "      <td>2017-04-03</td>\n",
       "      <td>2</td>\n",
       "      <td>2016.0</td>\n",
       "      <td>0</td>\n",
       "    </tr>\n",
       "  </tbody>\n",
       "</table>\n",
       "</div>"
      ],
      "text/plain": [
       "  application_date  segment  case_count  Holiday\n",
       "0       2017-04-01        1       299.0        0\n",
       "1       2017-04-01        2       897.0        0\n",
       "2       2017-04-02        2       605.0        0\n",
       "3       2017-04-03        1        42.0        0\n",
       "4       2017-04-03        2      2016.0        0"
      ]
     },
     "execution_count": 33,
     "metadata": {},
     "output_type": "execute_result"
    }
   ],
   "source": [
    "df_train.head()"
   ]
  },
  {
   "cell_type": "code",
   "execution_count": 34,
   "metadata": {
    "collapsed": false
   },
   "outputs": [
    {
     "data": {
      "text/html": [
       "<div>\n",
       "<table border=\"1\" class=\"dataframe\">\n",
       "  <thead>\n",
       "    <tr style=\"text-align: right;\">\n",
       "      <th></th>\n",
       "      <th>application_date</th>\n",
       "      <th>segment</th>\n",
       "      <th>Holiday</th>\n",
       "    </tr>\n",
       "  </thead>\n",
       "  <tbody>\n",
       "    <tr>\n",
       "      <th>0</th>\n",
       "      <td>2019-07-06</td>\n",
       "      <td>1</td>\n",
       "      <td>0</td>\n",
       "    </tr>\n",
       "    <tr>\n",
       "      <th>1</th>\n",
       "      <td>2019-07-07</td>\n",
       "      <td>1</td>\n",
       "      <td>0</td>\n",
       "    </tr>\n",
       "    <tr>\n",
       "      <th>2</th>\n",
       "      <td>2019-07-08</td>\n",
       "      <td>1</td>\n",
       "      <td>0</td>\n",
       "    </tr>\n",
       "    <tr>\n",
       "      <th>3</th>\n",
       "      <td>2019-07-09</td>\n",
       "      <td>1</td>\n",
       "      <td>0</td>\n",
       "    </tr>\n",
       "    <tr>\n",
       "      <th>4</th>\n",
       "      <td>2019-07-10</td>\n",
       "      <td>1</td>\n",
       "      <td>0</td>\n",
       "    </tr>\n",
       "  </tbody>\n",
       "</table>\n",
       "</div>"
      ],
      "text/plain": [
       "  application_date  segment  Holiday\n",
       "0       2019-07-06        1        0\n",
       "1       2019-07-07        1        0\n",
       "2       2019-07-08        1        0\n",
       "3       2019-07-09        1        0\n",
       "4       2019-07-10        1        0"
      ]
     },
     "execution_count": 34,
     "metadata": {},
     "output_type": "execute_result"
    }
   ],
   "source": [
    "df_test.head()"
   ]
  },
  {
   "cell_type": "markdown",
   "metadata": {
    "collapsed": true
   },
   "source": [
    "#### Model Building for Segment 1"
   ]
  },
  {
   "cell_type": "code",
   "execution_count": 35,
   "metadata": {
    "collapsed": false
   },
   "outputs": [
    {
     "data": {
      "text/plain": [
       "(806, 4)"
      ]
     },
     "execution_count": 35,
     "metadata": {},
     "output_type": "execute_result"
    }
   ],
   "source": [
    "df = df_train[df_train['segment'] == 1]\n",
    "df.shape"
   ]
  },
  {
   "cell_type": "code",
   "execution_count": 36,
   "metadata": {
    "collapsed": true
   },
   "outputs": [],
   "source": [
    "# defining a function to create a weekend indicator\n",
    "def weekend_indicator(x):\n",
    "    if (x>4 and x<=6):\n",
    "        return True\n",
    "    else:\n",
    "        return False"
   ]
  },
  {
   "cell_type": "code",
   "execution_count": 37,
   "metadata": {
    "collapsed": false
   },
   "outputs": [],
   "source": [
    "# creating additional datetime features\n",
    "df['year'] = df.application_date.dt.year\n",
    "df['month'] = df.application_date.dt.month\n",
    "df['dayofweek'] = df.application_date.dt.dayofweek\n",
    "df['day'] = df.application_date.dt.day\n",
    "df['quarter'] = df.application_date.dt.quarter\n",
    "df['is_month_start'] = df.application_date.dt.is_month_start\n",
    "df['is_month_end'] = df.application_date.dt.is_month_end\n",
    "df['is_quarter_start'] = df.application_date.dt.is_quarter_start\n",
    "df['is_quarter_end'] = df.application_date.dt.is_quarter_end\n",
    "df['weekend'] = df['dayofweek'].apply(weekend_indicator) "
   ]
  },
  {
   "cell_type": "code",
   "execution_count": 38,
   "metadata": {
    "collapsed": true
   },
   "outputs": [],
   "source": [
    "cols = ['year','month','dayofweek','day','quarter']\n",
    "for col in cols:\n",
    "    df_train[col] = df[col].astype('category')"
   ]
  },
  {
   "cell_type": "code",
   "execution_count": 39,
   "metadata": {
    "collapsed": false
   },
   "outputs": [],
   "source": [
    "y = df['case_count']\n",
    "X = df[[col for col in df.columns if col not in ['application_date','segment','case_count']]]"
   ]
  },
  {
   "cell_type": "code",
   "execution_count": 40,
   "metadata": {
    "collapsed": false
   },
   "outputs": [
    {
     "name": "stdout",
     "output_type": "stream",
     "text": [
      "(604, 11)\n",
      "(604,)\n",
      "(202, 11)\n",
      "(202,)\n"
     ]
    }
   ],
   "source": [
    "X_Train, X_Test, y_Train, y_Test = train_test_split(X,y,test_size=0.25,shuffle=False,random_state=42)\n",
    "print (X_Train.shape)\n",
    "print (y_Train.shape)\n",
    "print (X_Test.shape)\n",
    "print (y_Test.shape)"
   ]
  },
  {
   "cell_type": "code",
   "execution_count": 41,
   "metadata": {
    "collapsed": false
   },
   "outputs": [
    {
     "name": "stderr",
     "output_type": "stream",
     "text": [
      "C:\\Users\\kulka\\Anaconda3\\lib\\site-packages\\sklearn\\model_selection\\_search.py:813: DeprecationWarning: The default of the `iid` parameter will change from True to False in version 0.22 and will be removed in 0.24. This will change numeric results when test-set sizes are unequal.\n",
      "  DeprecationWarning)\n"
     ]
    },
    {
     "data": {
      "text/plain": [
       "RandomizedSearchCV(cv=5, error_score='raise-deprecating',\n",
       "                   estimator=RandomForestRegressor(bootstrap=True,\n",
       "                                                   criterion='mse',\n",
       "                                                   max_depth=None,\n",
       "                                                   max_features='auto',\n",
       "                                                   max_leaf_nodes=None,\n",
       "                                                   min_impurity_decrease=0.0,\n",
       "                                                   min_impurity_split=None,\n",
       "                                                   min_samples_leaf=1,\n",
       "                                                   min_samples_split=2,\n",
       "                                                   min_weight_fraction_leaf=0.0,\n",
       "                                                   n_estimators='warn',\n",
       "                                                   n_jobs=1, oob_score=False,\n",
       "                                                   random_state=42, verbose=0,\n",
       "                                                   warm_start=False),\n",
       "                   iid='warn', n_iter=10, n_jobs=None,\n",
       "                   param_distributions={'max_depth': [3, 4, 5, 6, 7],\n",
       "                                        'max_features': [0.5, 'sqrt', 'log2',\n",
       "                                                         None],\n",
       "                                        'min_samples_leaf': [2, 3, 5, 7, 10],\n",
       "                                        'n_estimators': [10, 60, 110, 160, 210,\n",
       "                                                         260, 310, 360, 410,\n",
       "                                                         460]},\n",
       "                   pre_dispatch='2*n_jobs', random_state=None, refit=True,\n",
       "                   return_train_score=False, scoring=None, verbose=0)"
      ]
     },
     "execution_count": 41,
     "metadata": {},
     "output_type": "execute_result"
    }
   ],
   "source": [
    "model = RandomForestRegressor(n_jobs=1, random_state=42)\n",
    "params = {\"n_estimators\":list(range(10,500,50)),\n",
    "          \"max_features\":[0.5,'sqrt','log2',None],\n",
    "          \"max_depth\":[3,4,5,6,7],\n",
    "          \"min_samples_leaf\":[2,3,5,7,10]}\n",
    "search = RandomizedSearchCV(estimator=model,param_distributions=params,cv=5)\n",
    "search.fit(X,y)"
   ]
  },
  {
   "cell_type": "code",
   "execution_count": 42,
   "metadata": {
    "collapsed": false
   },
   "outputs": [
    {
     "name": "stdout",
     "output_type": "stream",
     "text": [
      "17.597875470079096\n"
     ]
    }
   ],
   "source": [
    "y_pred = search.best_estimator_.predict(X_Test)\n",
    "mape_segment_1 = mean_absolute_percentage_error(y_Test,y_pred)\n",
    "print (mape_segment_1)"
   ]
  },
  {
   "cell_type": "code",
   "execution_count": 43,
   "metadata": {
    "collapsed": false
   },
   "outputs": [
    {
     "data": {
      "text/plain": [
       "is_quarter_start    0.000000\n",
       "is_quarter_end      0.000000\n",
       "is_month_start      0.011229\n",
       "Holiday             0.011663\n",
       "quarter             0.031003\n",
       "weekend             0.041194\n",
       "month               0.074068\n",
       "dayofweek           0.106142\n",
       "year                0.156445\n",
       "is_month_end        0.275034\n",
       "day                 0.293221\n",
       "dtype: float64"
      ]
     },
     "execution_count": 43,
     "metadata": {},
     "output_type": "execute_result"
    }
   ],
   "source": [
    "ser = pd.Series(search.best_estimator_.feature_importances_,X.columns).sort_values()\n",
    "ser"
   ]
  },
  {
   "cell_type": "code",
   "execution_count": 44,
   "metadata": {
    "collapsed": false
   },
   "outputs": [],
   "source": [
    "df_test['year'] = df_test.application_date.dt.year\n",
    "df_test['month'] = df_test.application_date.dt.month\n",
    "df_test['dayofweek'] = df_test.application_date.dt.dayofweek\n",
    "df_test['day'] = df_test.application_date.dt.day\n",
    "df_test['quarter'] = df_test.application_date.dt.quarter\n",
    "df_test['is_month_start'] = df_test.application_date.dt.is_month_start\n",
    "df_test['is_month_end'] = df_test.application_date.dt.is_month_end\n",
    "df_test['is_quarter_start'] = df_test.application_date.dt.is_quarter_start\n",
    "df_test['is_quarter_end'] = df_test.application_date.dt.is_quarter_end\n",
    "df_test['weekend'] = df_test['dayofweek'].apply(weekend_indicator)\n",
    "\n",
    "for col in cols:\n",
    "    df_train[col] = df[col].astype('category')\n",
    "\n",
    "df_test_segment1 = df_test[df_test['segment'] == 1]\n",
    "df_test_segment1.drop(['application_date','segment'],axis=1,inplace=True)"
   ]
  },
  {
   "cell_type": "code",
   "execution_count": 45,
   "metadata": {
    "collapsed": false
   },
   "outputs": [],
   "source": [
    "Submission.loc[Submission['segment'] == 1,'case_count'] = search.best_estimator_.predict(df_test_segment1)"
   ]
  },
  {
   "cell_type": "markdown",
   "metadata": {},
   "source": [
    "#### Model Building For Segment 2"
   ]
  },
  {
   "cell_type": "code",
   "execution_count": 46,
   "metadata": {
    "collapsed": false
   },
   "outputs": [
    {
     "data": {
      "text/plain": [
       "(844, 9)"
      ]
     },
     "execution_count": 46,
     "metadata": {},
     "output_type": "execute_result"
    }
   ],
   "source": [
    "df = df_train[df_train['segment'] == 2]\n",
    "df.shape"
   ]
  },
  {
   "cell_type": "code",
   "execution_count": 47,
   "metadata": {
    "collapsed": true
   },
   "outputs": [],
   "source": [
    "# creating additional datetime features\n",
    "df['year'] = df.application_date.dt.year\n",
    "df['month'] = df.application_date.dt.month\n",
    "df['dayofweek'] = df.application_date.dt.dayofweek\n",
    "df['day'] = df.application_date.dt.day\n",
    "df['quarter'] = df.application_date.dt.quarter\n",
    "df['is_month_start'] = df.application_date.dt.is_month_start\n",
    "df['is_month_end'] = df.application_date.dt.is_month_end\n",
    "df['is_quarter_start'] = df.application_date.dt.is_quarter_start\n",
    "df['is_quarter_end'] = df.application_date.dt.is_quarter_end\n",
    "df['weekend'] = df['dayofweek'].apply(weekend_indicator) "
   ]
  },
  {
   "cell_type": "code",
   "execution_count": 48,
   "metadata": {
    "collapsed": true
   },
   "outputs": [],
   "source": [
    "cols = ['year','month','dayofweek','day','quarter']\n",
    "for col in cols:\n",
    "    df_train[col] = df[col].astype('category')"
   ]
  },
  {
   "cell_type": "code",
   "execution_count": 49,
   "metadata": {
    "collapsed": true
   },
   "outputs": [],
   "source": [
    "y = df['case_count']\n",
    "X = df[[col for col in df.columns if col not in ['application_date','segment','case_count']]]"
   ]
  },
  {
   "cell_type": "code",
   "execution_count": 50,
   "metadata": {
    "collapsed": false
   },
   "outputs": [
    {
     "name": "stdout",
     "output_type": "stream",
     "text": [
      "(633, 11)\n",
      "(633,)\n",
      "(211, 11)\n",
      "(211,)\n"
     ]
    }
   ],
   "source": [
    "X_Train, X_Test, y_Train, y_Test = train_test_split(X,y,test_size=0.25,shuffle=False,random_state=42)\n",
    "print (X_Train.shape)\n",
    "print (y_Train.shape)\n",
    "print (X_Test.shape)\n",
    "print (y_Test.shape)"
   ]
  },
  {
   "cell_type": "code",
   "execution_count": 51,
   "metadata": {
    "collapsed": false
   },
   "outputs": [
    {
     "name": "stderr",
     "output_type": "stream",
     "text": [
      "C:\\Users\\kulka\\Anaconda3\\lib\\site-packages\\sklearn\\model_selection\\_search.py:813: DeprecationWarning: The default of the `iid` parameter will change from True to False in version 0.22 and will be removed in 0.24. This will change numeric results when test-set sizes are unequal.\n",
      "  DeprecationWarning)\n"
     ]
    },
    {
     "data": {
      "text/plain": [
       "RandomizedSearchCV(cv=5, error_score='raise-deprecating',\n",
       "                   estimator=RandomForestRegressor(bootstrap=True,\n",
       "                                                   criterion='mse',\n",
       "                                                   max_depth=None,\n",
       "                                                   max_features='auto',\n",
       "                                                   max_leaf_nodes=None,\n",
       "                                                   min_impurity_decrease=0.0,\n",
       "                                                   min_impurity_split=None,\n",
       "                                                   min_samples_leaf=1,\n",
       "                                                   min_samples_split=2,\n",
       "                                                   min_weight_fraction_leaf=0.0,\n",
       "                                                   n_estimators='warn',\n",
       "                                                   n_jobs=1, oob_score=False,\n",
       "                                                   random_state=42, verbose=0,\n",
       "                                                   warm_start=False),\n",
       "                   iid='warn', n_iter=10, n_jobs=None,\n",
       "                   param_distributions={'max_depth': [3, 4, 5, 6, 7],\n",
       "                                        'max_features': [0.5, 'sqrt', 'log2',\n",
       "                                                         None],\n",
       "                                        'min_samples_leaf': [2, 3, 5, 7, 10],\n",
       "                                        'n_estimators': [10, 60, 110, 160, 210,\n",
       "                                                         260, 310, 360, 410,\n",
       "                                                         460]},\n",
       "                   pre_dispatch='2*n_jobs', random_state=None, refit=True,\n",
       "                   return_train_score=False, scoring=None, verbose=0)"
      ]
     },
     "execution_count": 51,
     "metadata": {},
     "output_type": "execute_result"
    }
   ],
   "source": [
    "search.fit(X,y)"
   ]
  },
  {
   "cell_type": "code",
   "execution_count": 52,
   "metadata": {
    "collapsed": false
   },
   "outputs": [
    {
     "name": "stdout",
     "output_type": "stream",
     "text": [
      "13.784829379894747\n"
     ]
    }
   ],
   "source": [
    "y_pred = search.best_estimator_.predict(X_Test)\n",
    "mape_segment_2 = mean_absolute_percentage_error(y_Test,y_pred)\n",
    "print (mape_segment_2)"
   ]
  },
  {
   "cell_type": "code",
   "execution_count": 53,
   "metadata": {
    "collapsed": false
   },
   "outputs": [
    {
     "data": {
      "text/plain": [
       "is_quarter_end      8.658416e-07\n",
       "is_quarter_start    1.870719e-04\n",
       "is_month_start      2.435044e-04\n",
       "weekend             2.563373e-03\n",
       "is_month_end        4.662821e-03\n",
       "Holiday             4.818925e-03\n",
       "quarter             2.157549e-02\n",
       "month               4.367613e-02\n",
       "dayofweek           5.402033e-02\n",
       "year                1.548903e-01\n",
       "day                 7.133612e-01\n",
       "dtype: float64"
      ]
     },
     "execution_count": 53,
     "metadata": {},
     "output_type": "execute_result"
    }
   ],
   "source": [
    "ser = pd.Series(search.best_estimator_.feature_importances_,X.columns).sort_values()\n",
    "ser"
   ]
  },
  {
   "cell_type": "code",
   "execution_count": 54,
   "metadata": {
    "collapsed": false
   },
   "outputs": [
    {
     "name": "stdout",
     "output_type": "stream",
     "text": [
      "15.69135242498692\n"
     ]
    }
   ],
   "source": [
    "final_mape = 0.5*mape_segment_1+0.5*mape_segment_2\n",
    "print (final_mape)"
   ]
  },
  {
   "cell_type": "code",
   "execution_count": 55,
   "metadata": {
    "collapsed": false
   },
   "outputs": [],
   "source": [
    "df_test_segment2 = df_test[df_test['segment'] == 2]\n",
    "df_test_segment2.drop(['application_date','segment'],axis=1,inplace=True)"
   ]
  },
  {
   "cell_type": "code",
   "execution_count": 56,
   "metadata": {
    "collapsed": false
   },
   "outputs": [],
   "source": [
    "Submission.loc[Submission['segment'] == 2,'case_count'] = search.best_estimator_.predict(df_test_segment2)"
   ]
  },
  {
   "cell_type": "code",
   "execution_count": 57,
   "metadata": {
    "collapsed": false
   },
   "outputs": [],
   "source": [
    "Submission['case_count'] = Submission['case_count'].astype(int)"
   ]
  },
  {
   "cell_type": "code",
   "execution_count": 58,
   "metadata": {
    "collapsed": false
   },
   "outputs": [],
   "source": [
    "Submission.to_csv(\"Submission.csv\",index=None)"
   ]
  },
  {
   "cell_type": "code",
   "execution_count": 59,
   "metadata": {
    "collapsed": false
   },
   "outputs": [
    {
     "data": {
      "text/html": [
       "<div>\n",
       "<table border=\"1\" class=\"dataframe\">\n",
       "  <thead>\n",
       "    <tr style=\"text-align: right;\">\n",
       "      <th></th>\n",
       "      <th>id</th>\n",
       "      <th>application_date</th>\n",
       "      <th>segment</th>\n",
       "      <th>case_count</th>\n",
       "    </tr>\n",
       "  </thead>\n",
       "  <tbody>\n",
       "    <tr>\n",
       "      <th>0</th>\n",
       "      <td>1</td>\n",
       "      <td>2019-07-06</td>\n",
       "      <td>1</td>\n",
       "      <td>2256</td>\n",
       "    </tr>\n",
       "    <tr>\n",
       "      <th>1</th>\n",
       "      <td>2</td>\n",
       "      <td>2019-07-07</td>\n",
       "      <td>1</td>\n",
       "      <td>1495</td>\n",
       "    </tr>\n",
       "    <tr>\n",
       "      <th>2</th>\n",
       "      <td>3</td>\n",
       "      <td>2019-07-08</td>\n",
       "      <td>1</td>\n",
       "      <td>3345</td>\n",
       "    </tr>\n",
       "    <tr>\n",
       "      <th>3</th>\n",
       "      <td>4</td>\n",
       "      <td>2019-07-09</td>\n",
       "      <td>1</td>\n",
       "      <td>3295</td>\n",
       "    </tr>\n",
       "    <tr>\n",
       "      <th>4</th>\n",
       "      <td>5</td>\n",
       "      <td>2019-07-10</td>\n",
       "      <td>1</td>\n",
       "      <td>3285</td>\n",
       "    </tr>\n",
       "    <tr>\n",
       "      <th>5</th>\n",
       "      <td>6</td>\n",
       "      <td>2019-07-11</td>\n",
       "      <td>1</td>\n",
       "      <td>3282</td>\n",
       "    </tr>\n",
       "    <tr>\n",
       "      <th>6</th>\n",
       "      <td>7</td>\n",
       "      <td>2019-07-12</td>\n",
       "      <td>1</td>\n",
       "      <td>3258</td>\n",
       "    </tr>\n",
       "    <tr>\n",
       "      <th>7</th>\n",
       "      <td>8</td>\n",
       "      <td>2019-07-13</td>\n",
       "      <td>1</td>\n",
       "      <td>2461</td>\n",
       "    </tr>\n",
       "    <tr>\n",
       "      <th>8</th>\n",
       "      <td>9</td>\n",
       "      <td>2019-07-14</td>\n",
       "      <td>1</td>\n",
       "      <td>1594</td>\n",
       "    </tr>\n",
       "    <tr>\n",
       "      <th>9</th>\n",
       "      <td>10</td>\n",
       "      <td>2019-07-15</td>\n",
       "      <td>1</td>\n",
       "      <td>3358</td>\n",
       "    </tr>\n",
       "    <tr>\n",
       "      <th>10</th>\n",
       "      <td>11</td>\n",
       "      <td>2019-07-16</td>\n",
       "      <td>1</td>\n",
       "      <td>3290</td>\n",
       "    </tr>\n",
       "    <tr>\n",
       "      <th>11</th>\n",
       "      <td>12</td>\n",
       "      <td>2019-07-17</td>\n",
       "      <td>1</td>\n",
       "      <td>3285</td>\n",
       "    </tr>\n",
       "    <tr>\n",
       "      <th>12</th>\n",
       "      <td>13</td>\n",
       "      <td>2019-07-18</td>\n",
       "      <td>1</td>\n",
       "      <td>3282</td>\n",
       "    </tr>\n",
       "    <tr>\n",
       "      <th>13</th>\n",
       "      <td>14</td>\n",
       "      <td>2019-07-19</td>\n",
       "      <td>1</td>\n",
       "      <td>3258</td>\n",
       "    </tr>\n",
       "    <tr>\n",
       "      <th>14</th>\n",
       "      <td>15</td>\n",
       "      <td>2019-07-20</td>\n",
       "      <td>1</td>\n",
       "      <td>2463</td>\n",
       "    </tr>\n",
       "    <tr>\n",
       "      <th>15</th>\n",
       "      <td>16</td>\n",
       "      <td>2019-07-21</td>\n",
       "      <td>1</td>\n",
       "      <td>1584</td>\n",
       "    </tr>\n",
       "    <tr>\n",
       "      <th>16</th>\n",
       "      <td>17</td>\n",
       "      <td>2019-07-22</td>\n",
       "      <td>1</td>\n",
       "      <td>3349</td>\n",
       "    </tr>\n",
       "    <tr>\n",
       "      <th>17</th>\n",
       "      <td>18</td>\n",
       "      <td>2019-07-23</td>\n",
       "      <td>1</td>\n",
       "      <td>3281</td>\n",
       "    </tr>\n",
       "    <tr>\n",
       "      <th>18</th>\n",
       "      <td>19</td>\n",
       "      <td>2019-07-24</td>\n",
       "      <td>1</td>\n",
       "      <td>3276</td>\n",
       "    </tr>\n",
       "    <tr>\n",
       "      <th>19</th>\n",
       "      <td>20</td>\n",
       "      <td>2019-07-25</td>\n",
       "      <td>1</td>\n",
       "      <td>3273</td>\n",
       "    </tr>\n",
       "    <tr>\n",
       "      <th>20</th>\n",
       "      <td>21</td>\n",
       "      <td>2019-07-26</td>\n",
       "      <td>1</td>\n",
       "      <td>3249</td>\n",
       "    </tr>\n",
       "    <tr>\n",
       "      <th>21</th>\n",
       "      <td>22</td>\n",
       "      <td>2019-07-27</td>\n",
       "      <td>1</td>\n",
       "      <td>2463</td>\n",
       "    </tr>\n",
       "    <tr>\n",
       "      <th>22</th>\n",
       "      <td>23</td>\n",
       "      <td>2019-07-28</td>\n",
       "      <td>1</td>\n",
       "      <td>1763</td>\n",
       "    </tr>\n",
       "    <tr>\n",
       "      <th>23</th>\n",
       "      <td>24</td>\n",
       "      <td>2019-07-29</td>\n",
       "      <td>1</td>\n",
       "      <td>3381</td>\n",
       "    </tr>\n",
       "    <tr>\n",
       "      <th>24</th>\n",
       "      <td>25</td>\n",
       "      <td>2019-07-30</td>\n",
       "      <td>1</td>\n",
       "      <td>3715</td>\n",
       "    </tr>\n",
       "    <tr>\n",
       "      <th>25</th>\n",
       "      <td>26</td>\n",
       "      <td>2019-07-31</td>\n",
       "      <td>1</td>\n",
       "      <td>8022</td>\n",
       "    </tr>\n",
       "    <tr>\n",
       "      <th>26</th>\n",
       "      <td>27</td>\n",
       "      <td>2019-08-01</td>\n",
       "      <td>1</td>\n",
       "      <td>2027</td>\n",
       "    </tr>\n",
       "    <tr>\n",
       "      <th>27</th>\n",
       "      <td>28</td>\n",
       "      <td>2019-08-02</td>\n",
       "      <td>1</td>\n",
       "      <td>2441</td>\n",
       "    </tr>\n",
       "    <tr>\n",
       "      <th>28</th>\n",
       "      <td>29</td>\n",
       "      <td>2019-08-03</td>\n",
       "      <td>1</td>\n",
       "      <td>2196</td>\n",
       "    </tr>\n",
       "    <tr>\n",
       "      <th>29</th>\n",
       "      <td>30</td>\n",
       "      <td>2019-08-04</td>\n",
       "      <td>1</td>\n",
       "      <td>1561</td>\n",
       "    </tr>\n",
       "    <tr>\n",
       "      <th>...</th>\n",
       "      <td>...</td>\n",
       "      <td>...</td>\n",
       "      <td>...</td>\n",
       "      <td>...</td>\n",
       "    </tr>\n",
       "    <tr>\n",
       "      <th>150</th>\n",
       "      <td>151</td>\n",
       "      <td>2019-09-25</td>\n",
       "      <td>2</td>\n",
       "      <td>25200</td>\n",
       "    </tr>\n",
       "    <tr>\n",
       "      <th>151</th>\n",
       "      <td>152</td>\n",
       "      <td>2019-09-26</td>\n",
       "      <td>2</td>\n",
       "      <td>24788</td>\n",
       "    </tr>\n",
       "    <tr>\n",
       "      <th>152</th>\n",
       "      <td>153</td>\n",
       "      <td>2019-09-27</td>\n",
       "      <td>2</td>\n",
       "      <td>22999</td>\n",
       "    </tr>\n",
       "    <tr>\n",
       "      <th>153</th>\n",
       "      <td>154</td>\n",
       "      <td>2019-09-28</td>\n",
       "      <td>2</td>\n",
       "      <td>19198</td>\n",
       "    </tr>\n",
       "    <tr>\n",
       "      <th>154</th>\n",
       "      <td>155</td>\n",
       "      <td>2019-09-29</td>\n",
       "      <td>2</td>\n",
       "      <td>9778</td>\n",
       "    </tr>\n",
       "    <tr>\n",
       "      <th>155</th>\n",
       "      <td>156</td>\n",
       "      <td>2019-09-30</td>\n",
       "      <td>2</td>\n",
       "      <td>3447</td>\n",
       "    </tr>\n",
       "    <tr>\n",
       "      <th>156</th>\n",
       "      <td>157</td>\n",
       "      <td>2019-10-01</td>\n",
       "      <td>2</td>\n",
       "      <td>5985</td>\n",
       "    </tr>\n",
       "    <tr>\n",
       "      <th>157</th>\n",
       "      <td>158</td>\n",
       "      <td>2019-10-02</td>\n",
       "      <td>2</td>\n",
       "      <td>5590</td>\n",
       "    </tr>\n",
       "    <tr>\n",
       "      <th>158</th>\n",
       "      <td>159</td>\n",
       "      <td>2019-10-03</td>\n",
       "      <td>2</td>\n",
       "      <td>5519</td>\n",
       "    </tr>\n",
       "    <tr>\n",
       "      <th>159</th>\n",
       "      <td>160</td>\n",
       "      <td>2019-10-04</td>\n",
       "      <td>2</td>\n",
       "      <td>4344</td>\n",
       "    </tr>\n",
       "    <tr>\n",
       "      <th>160</th>\n",
       "      <td>161</td>\n",
       "      <td>2019-10-05</td>\n",
       "      <td>2</td>\n",
       "      <td>4145</td>\n",
       "    </tr>\n",
       "    <tr>\n",
       "      <th>161</th>\n",
       "      <td>162</td>\n",
       "      <td>2019-10-06</td>\n",
       "      <td>2</td>\n",
       "      <td>3555</td>\n",
       "    </tr>\n",
       "    <tr>\n",
       "      <th>162</th>\n",
       "      <td>163</td>\n",
       "      <td>2019-10-07</td>\n",
       "      <td>2</td>\n",
       "      <td>3769</td>\n",
       "    </tr>\n",
       "    <tr>\n",
       "      <th>163</th>\n",
       "      <td>164</td>\n",
       "      <td>2019-10-08</td>\n",
       "      <td>2</td>\n",
       "      <td>4188</td>\n",
       "    </tr>\n",
       "    <tr>\n",
       "      <th>164</th>\n",
       "      <td>165</td>\n",
       "      <td>2019-10-09</td>\n",
       "      <td>2</td>\n",
       "      <td>4551</td>\n",
       "    </tr>\n",
       "    <tr>\n",
       "      <th>165</th>\n",
       "      <td>166</td>\n",
       "      <td>2019-10-10</td>\n",
       "      <td>2</td>\n",
       "      <td>6593</td>\n",
       "    </tr>\n",
       "    <tr>\n",
       "      <th>166</th>\n",
       "      <td>167</td>\n",
       "      <td>2019-10-11</td>\n",
       "      <td>2</td>\n",
       "      <td>17670</td>\n",
       "    </tr>\n",
       "    <tr>\n",
       "      <th>167</th>\n",
       "      <td>168</td>\n",
       "      <td>2019-10-12</td>\n",
       "      <td>2</td>\n",
       "      <td>28685</td>\n",
       "    </tr>\n",
       "    <tr>\n",
       "      <th>168</th>\n",
       "      <td>169</td>\n",
       "      <td>2019-10-13</td>\n",
       "      <td>2</td>\n",
       "      <td>14739</td>\n",
       "    </tr>\n",
       "    <tr>\n",
       "      <th>169</th>\n",
       "      <td>170</td>\n",
       "      <td>2019-10-14</td>\n",
       "      <td>2</td>\n",
       "      <td>28685</td>\n",
       "    </tr>\n",
       "    <tr>\n",
       "      <th>170</th>\n",
       "      <td>171</td>\n",
       "      <td>2019-10-15</td>\n",
       "      <td>2</td>\n",
       "      <td>28685</td>\n",
       "    </tr>\n",
       "    <tr>\n",
       "      <th>171</th>\n",
       "      <td>172</td>\n",
       "      <td>2019-10-16</td>\n",
       "      <td>2</td>\n",
       "      <td>28685</td>\n",
       "    </tr>\n",
       "    <tr>\n",
       "      <th>172</th>\n",
       "      <td>173</td>\n",
       "      <td>2019-10-17</td>\n",
       "      <td>2</td>\n",
       "      <td>26371</td>\n",
       "    </tr>\n",
       "    <tr>\n",
       "      <th>173</th>\n",
       "      <td>174</td>\n",
       "      <td>2019-10-18</td>\n",
       "      <td>2</td>\n",
       "      <td>28685</td>\n",
       "    </tr>\n",
       "    <tr>\n",
       "      <th>174</th>\n",
       "      <td>175</td>\n",
       "      <td>2019-10-19</td>\n",
       "      <td>2</td>\n",
       "      <td>28685</td>\n",
       "    </tr>\n",
       "    <tr>\n",
       "      <th>175</th>\n",
       "      <td>176</td>\n",
       "      <td>2019-10-20</td>\n",
       "      <td>2</td>\n",
       "      <td>18210</td>\n",
       "    </tr>\n",
       "    <tr>\n",
       "      <th>176</th>\n",
       "      <td>177</td>\n",
       "      <td>2019-10-21</td>\n",
       "      <td>2</td>\n",
       "      <td>28685</td>\n",
       "    </tr>\n",
       "    <tr>\n",
       "      <th>177</th>\n",
       "      <td>178</td>\n",
       "      <td>2019-10-22</td>\n",
       "      <td>2</td>\n",
       "      <td>28685</td>\n",
       "    </tr>\n",
       "    <tr>\n",
       "      <th>178</th>\n",
       "      <td>179</td>\n",
       "      <td>2019-10-23</td>\n",
       "      <td>2</td>\n",
       "      <td>28123</td>\n",
       "    </tr>\n",
       "    <tr>\n",
       "      <th>179</th>\n",
       "      <td>180</td>\n",
       "      <td>2019-10-24</td>\n",
       "      <td>2</td>\n",
       "      <td>25466</td>\n",
       "    </tr>\n",
       "  </tbody>\n",
       "</table>\n",
       "<p>180 rows × 4 columns</p>\n",
       "</div>"
      ],
      "text/plain": [
       "      id application_date  segment  case_count\n",
       "0      1       2019-07-06        1        2256\n",
       "1      2       2019-07-07        1        1495\n",
       "2      3       2019-07-08        1        3345\n",
       "3      4       2019-07-09        1        3295\n",
       "4      5       2019-07-10        1        3285\n",
       "5      6       2019-07-11        1        3282\n",
       "6      7       2019-07-12        1        3258\n",
       "7      8       2019-07-13        1        2461\n",
       "8      9       2019-07-14        1        1594\n",
       "9     10       2019-07-15        1        3358\n",
       "10    11       2019-07-16        1        3290\n",
       "11    12       2019-07-17        1        3285\n",
       "12    13       2019-07-18        1        3282\n",
       "13    14       2019-07-19        1        3258\n",
       "14    15       2019-07-20        1        2463\n",
       "15    16       2019-07-21        1        1584\n",
       "16    17       2019-07-22        1        3349\n",
       "17    18       2019-07-23        1        3281\n",
       "18    19       2019-07-24        1        3276\n",
       "19    20       2019-07-25        1        3273\n",
       "20    21       2019-07-26        1        3249\n",
       "21    22       2019-07-27        1        2463\n",
       "22    23       2019-07-28        1        1763\n",
       "23    24       2019-07-29        1        3381\n",
       "24    25       2019-07-30        1        3715\n",
       "25    26       2019-07-31        1        8022\n",
       "26    27       2019-08-01        1        2027\n",
       "27    28       2019-08-02        1        2441\n",
       "28    29       2019-08-03        1        2196\n",
       "29    30       2019-08-04        1        1561\n",
       "..   ...              ...      ...         ...\n",
       "150  151       2019-09-25        2       25200\n",
       "151  152       2019-09-26        2       24788\n",
       "152  153       2019-09-27        2       22999\n",
       "153  154       2019-09-28        2       19198\n",
       "154  155       2019-09-29        2        9778\n",
       "155  156       2019-09-30        2        3447\n",
       "156  157       2019-10-01        2        5985\n",
       "157  158       2019-10-02        2        5590\n",
       "158  159       2019-10-03        2        5519\n",
       "159  160       2019-10-04        2        4344\n",
       "160  161       2019-10-05        2        4145\n",
       "161  162       2019-10-06        2        3555\n",
       "162  163       2019-10-07        2        3769\n",
       "163  164       2019-10-08        2        4188\n",
       "164  165       2019-10-09        2        4551\n",
       "165  166       2019-10-10        2        6593\n",
       "166  167       2019-10-11        2       17670\n",
       "167  168       2019-10-12        2       28685\n",
       "168  169       2019-10-13        2       14739\n",
       "169  170       2019-10-14        2       28685\n",
       "170  171       2019-10-15        2       28685\n",
       "171  172       2019-10-16        2       28685\n",
       "172  173       2019-10-17        2       26371\n",
       "173  174       2019-10-18        2       28685\n",
       "174  175       2019-10-19        2       28685\n",
       "175  176       2019-10-20        2       18210\n",
       "176  177       2019-10-21        2       28685\n",
       "177  178       2019-10-22        2       28685\n",
       "178  179       2019-10-23        2       28123\n",
       "179  180       2019-10-24        2       25466\n",
       "\n",
       "[180 rows x 4 columns]"
      ]
     },
     "execution_count": 59,
     "metadata": {},
     "output_type": "execute_result"
    }
   ],
   "source": [
    "Submission"
   ]
  }
 ],
 "metadata": {
  "kernelspec": {
   "display_name": "Python 3",
   "language": "python",
   "name": "python3"
  },
  "language_info": {
   "codemirror_mode": {
    "name": "ipython",
    "version": 3
   },
   "file_extension": ".py",
   "mimetype": "text/x-python",
   "name": "python",
   "nbconvert_exporter": "python",
   "pygments_lexer": "ipython3",
   "version": "3.6.8"
  }
 },
 "nbformat": 4,
 "nbformat_minor": 2
}
