{
 "cells": [
  {
   "cell_type": "code",
   "execution_count": 243,
   "metadata": {
    "collapsed": true
   },
   "outputs": [],
   "source": [
    "import pandas as pd\n",
    "import numpy as np\n",
    "import matplotlib.pyplot as plt\n",
    "%matplotlib inline\n",
    "import seaborn as sns\n",
    "from sklearn.model_selection import train_test_split,KFold,cross_val_score\n",
    "from sklearn.linear_model import LinearRegression,Ridge,Lasso\n",
    "from sklearn.ensemble import RandomForestRegressor"
   ]
  },
  {
   "cell_type": "code",
   "execution_count": 244,
   "metadata": {
    "collapsed": true
   },
   "outputs": [],
   "source": [
    "train = pd.read_csv(\"train_fwYjLYX.csv\",parse_dates=['application_date'])\n",
    "test  = pd.read_csv(\"test_1eLl9Yf.csv\",parse_dates=['application_date'])"
   ]
  },
  {
   "cell_type": "code",
   "execution_count": 245,
   "metadata": {
    "collapsed": false
   },
   "outputs": [
    {
     "name": "stdout",
     "output_type": "stream",
     "text": [
      "Shape of Training Data:(80402, 6)\n",
      "Shape of Testing Data:(180, 3)\n"
     ]
    }
   ],
   "source": [
    "print (\"Shape of Training Data:{}\".format(train.shape))\n",
    "print (\"Shape of Testing Data:{}\".format(test.shape))"
   ]
  },
  {
   "cell_type": "code",
   "execution_count": 246,
   "metadata": {
    "collapsed": false
   },
   "outputs": [],
   "source": [
    "Submission = test[['id','application_date','segment']]\n",
    "test.drop('id',axis=1,inplace=True)"
   ]
  },
  {
   "cell_type": "markdown",
   "metadata": {},
   "source": [
    "### EDA- Train Data"
   ]
  },
  {
   "cell_type": "code",
   "execution_count": 247,
   "metadata": {
    "collapsed": false
   },
   "outputs": [
    {
     "name": "stdout",
     "output_type": "stream",
     "text": [
      "<class 'pandas.core.frame.DataFrame'>\n",
      "RangeIndex: 80402 entries, 0 to 80401\n",
      "Data columns (total 6 columns):\n",
      "application_date    80402 non-null datetime64[ns]\n",
      "segment             80402 non-null int64\n",
      "branch_id           66898 non-null float64\n",
      "state               80402 non-null object\n",
      "zone                66898 non-null object\n",
      "case_count          80402 non-null float64\n",
      "dtypes: datetime64[ns](1), float64(2), int64(1), object(2)\n",
      "memory usage: 11.9 MB\n"
     ]
    }
   ],
   "source": [
    "train.info(memory_usage='deep')"
   ]
  },
  {
   "cell_type": "markdown",
   "metadata": {},
   "source": [
    "1. There are missing values in branch_id and zone variables.\n",
    "2. application_date variable is read as datetime type.\n",
    "3. Dependent variable does not have missing values. "
   ]
  },
  {
   "cell_type": "code",
   "execution_count": 248,
   "metadata": {
    "collapsed": false
   },
   "outputs": [
    {
     "data": {
      "text/plain": [
       "(Timestamp('2019-07-23 00:00:00'), Timestamp('2017-04-01 00:00:00'))"
      ]
     },
     "execution_count": 248,
     "metadata": {},
     "output_type": "execute_result"
    }
   ],
   "source": [
    "train['application_date'].max(), train['application_date'].min()\n",
    "# Training data starts from 1st of April 2017 and ends at 23rd of July 2019. Roughly 2 years of data."
   ]
  },
  {
   "cell_type": "code",
   "execution_count": 249,
   "metadata": {
    "collapsed": false
   },
   "outputs": [
    {
     "data": {
      "text/plain": [
       "Text(0, 0.5, 'Count')"
      ]
     },
     "execution_count": 249,
     "metadata": {},
     "output_type": "execute_result"
    },
    {
     "data": {
      "image/png": "[encoded data removed]",
      "text/plain": [
       "<Figure size 432x288 with 1 Axes>"
      ]
     },
     "metadata": {},
     "output_type": "display_data"
    }
   ],
   "source": [
    "sns.countplot(train['segment'],order=train['segment'].value_counts().index)\n",
    "plt.title(\"Distribution of Segment Variable\")\n",
    "plt.xlabel(\"Segment\")\n",
    "plt.ylabel(\"Count\")\n",
    "# Lot more values of Segment1 than Segment2"
   ]
  },
  {
   "cell_type": "code",
   "execution_count": 250,
   "metadata": {
    "collapsed": false
   },
   "outputs": [
    {
     "data": {
      "text/plain": [
       "NaN       13504\n",
       " 159.0      806\n",
       " 17.0       806\n",
       " 67.0       806\n",
       " 269.0      806\n",
       " 74.0       806\n",
       " 268.0      806\n",
       " 135.0      806\n",
       " 62.0       806\n",
       " 271.0      806\n",
       "Name: branch_id, dtype: int64"
      ]
     },
     "execution_count": 250,
     "metadata": {},
     "output_type": "execute_result"
    }
   ],
   "source": [
    "train['branch_id'].value_counts(dropna=False).head(10)\n",
    "# All of the branch_id's have the same count i.e. 806 and this variable has 13504 missing values."
   ]
  },
  {
   "cell_type": "code",
   "execution_count": 251,
   "metadata": {
    "collapsed": false
   },
   "outputs": [
    {
     "name": "stdout",
     "output_type": "stream",
     "text": [
      "Number of Unique Branch_Id's in Training Data:83\n"
     ]
    }
   ],
   "source": [
    "print (\"Number of Unique Branch_Id's in Training Data:{}\".format(train['branch_id'].nunique()))\n",
    "# 83 unique branch_id's in total in training dataset."
   ]
  },
  {
   "cell_type": "code",
   "execution_count": 252,
   "metadata": {
    "collapsed": false
   },
   "outputs": [
    {
     "data": {
      "text/plain": [
       "(array([ 0,  1,  2,  3,  4,  5,  6,  7,  8,  9, 10, 11, 12, 13, 14, 15, 16,\n",
       "        17, 18, 19]), <a list of 20 Text xticklabel objects>)"
      ]
     },
     "execution_count": 252,
     "metadata": {},
     "output_type": "execute_result"
    },
    {
     "data": {
      "image/png": "[encoded data removed]",
      "text/plain": [
       "<Figure size 720x432 with 1 Axes>"
      ]
     },
     "metadata": {},
     "output_type": "display_data"
    }
   ],
   "source": [
    "plt.figure(figsize=(10,6))\n",
    "sns.countplot(train['state'],order=train['state'].value_counts(dropna=False).index)\n",
    "plt.title(\"Distribution of State variable\")\n",
    "plt.xlabel(\"State\")\n",
    "plt.ylabel(\"Count\")\n",
    "plt.xticks(rotation=90)\n",
    "# Maharashtra has the largest count followed by West Bengal and Gujarat, Delhi has the least count."
   ]
  },
  {
   "cell_type": "code",
   "execution_count": 253,
   "metadata": {
    "collapsed": false
   },
   "outputs": [
    {
     "data": {
      "text/plain": [
       "Text(0, 0.5, 'Count')"
      ]
     },
     "execution_count": 253,
     "metadata": {},
     "output_type": "execute_result"
    },
    {
     "data": {
      "image/png": "[encoded data removed]",
      "text/plain": [
       "<Figure size 432x288 with 1 Axes>"
      ]
     },
     "metadata": {},
     "output_type": "display_data"
    }
   ],
   "source": [
    "train['zone'].value_counts(dropna=False).plot(kind='bar')\n",
    "plt.title(\"Distribution of zone variable\")\n",
    "plt.xlabel(\"zone\")\n",
    "plt.ylabel(\"Count\")\n",
    "# East has the highest count and Central has the least count, lot of missing values here."
   ]
  },
  {
   "cell_type": "code",
   "execution_count": 254,
   "metadata": {
    "collapsed": false
   },
   "outputs": [
    {
     "data": {
      "text/plain": [
       "count    80402.000000\n",
       "mean       185.481841\n",
       "std        749.602925\n",
       "min          0.000000\n",
       "25%          0.000000\n",
       "50%         18.000000\n",
       "75%         60.000000\n",
       "max      13787.000000\n",
       "Name: case_count, dtype: float64"
      ]
     },
     "execution_count": 254,
     "metadata": {},
     "output_type": "execute_result"
    }
   ],
   "source": [
    "train['case_count'].describe()"
   ]
  },
  {
   "cell_type": "markdown",
   "metadata": {},
   "source": [
    "Some observations with respect to the dependent variable,\n",
    "1. Maximum case count is 13787 which is exceptionally high.\n",
    "2. Minimum case count is 0 which is understandable. \n",
    "3. Average value is 185 and the Median value is 18, so the distribution will be somewhat skewed. "
   ]
  },
  {
   "cell_type": "code",
   "execution_count": 255,
   "metadata": {
    "collapsed": false
   },
   "outputs": [
    {
     "data": {
      "text/plain": [
       "<matplotlib.axes._subplots.AxesSubplot at 0x1d844df49b0>"
      ]
     },
     "execution_count": 255,
     "metadata": {},
     "output_type": "execute_result"
    },
    {
     "data": {
      "image/png": "[encoded data removed]",
      "text/plain": [
       "<Figure size 432x288 with 1 Axes>"
      ]
     },
     "metadata": {},
     "output_type": "display_data"
    }
   ],
   "source": [
    "sns.distplot(train['case_count'],kde=False,bins=50)\n",
    "# As we can see a lot of 0 values. "
   ]
  },
  {
   "cell_type": "code",
   "execution_count": 256,
   "metadata": {
    "collapsed": false
   },
   "outputs": [
    {
     "data": {
      "text/html": [
       "<div>\n",
       "<table border=\"1\" class=\"dataframe\">\n",
       "  <thead>\n",
       "    <tr style=\"text-align: right;\">\n",
       "      <th></th>\n",
       "      <th>application_date</th>\n",
       "      <th>segment</th>\n",
       "      <th>branch_id</th>\n",
       "      <th>state</th>\n",
       "      <th>zone</th>\n",
       "      <th>case_count</th>\n",
       "    </tr>\n",
       "  </thead>\n",
       "  <tbody>\n",
       "    <tr>\n",
       "      <th>0</th>\n",
       "      <td>2017-04-01</td>\n",
       "      <td>1</td>\n",
       "      <td>1.0</td>\n",
       "      <td>WEST BENGAL</td>\n",
       "      <td>EAST</td>\n",
       "      <td>40.0</td>\n",
       "    </tr>\n",
       "    <tr>\n",
       "      <th>1</th>\n",
       "      <td>2017-04-03</td>\n",
       "      <td>1</td>\n",
       "      <td>1.0</td>\n",
       "      <td>WEST BENGAL</td>\n",
       "      <td>EAST</td>\n",
       "      <td>5.0</td>\n",
       "    </tr>\n",
       "    <tr>\n",
       "      <th>2</th>\n",
       "      <td>2017-04-04</td>\n",
       "      <td>1</td>\n",
       "      <td>1.0</td>\n",
       "      <td>WEST BENGAL</td>\n",
       "      <td>EAST</td>\n",
       "      <td>4.0</td>\n",
       "    </tr>\n",
       "    <tr>\n",
       "      <th>3</th>\n",
       "      <td>2017-04-05</td>\n",
       "      <td>1</td>\n",
       "      <td>1.0</td>\n",
       "      <td>WEST BENGAL</td>\n",
       "      <td>EAST</td>\n",
       "      <td>113.0</td>\n",
       "    </tr>\n",
       "    <tr>\n",
       "      <th>4</th>\n",
       "      <td>2017-04-07</td>\n",
       "      <td>1</td>\n",
       "      <td>1.0</td>\n",
       "      <td>WEST BENGAL</td>\n",
       "      <td>EAST</td>\n",
       "      <td>76.0</td>\n",
       "    </tr>\n",
       "  </tbody>\n",
       "</table>\n",
       "</div>"
      ],
      "text/plain": [
       "  application_date  segment  branch_id        state  zone  case_count\n",
       "0       2017-04-01        1        1.0  WEST BENGAL  EAST        40.0\n",
       "1       2017-04-03        1        1.0  WEST BENGAL  EAST         5.0\n",
       "2       2017-04-04        1        1.0  WEST BENGAL  EAST         4.0\n",
       "3       2017-04-05        1        1.0  WEST BENGAL  EAST       113.0\n",
       "4       2017-04-07        1        1.0  WEST BENGAL  EAST        76.0"
      ]
     },
     "execution_count": 256,
     "metadata": {},
     "output_type": "execute_result"
    }
   ],
   "source": [
    "train.head()"
   ]
  },
  {
   "cell_type": "markdown",
   "metadata": {},
   "source": [
    "### Bi-Variate Analysis"
   ]
  },
  {
   "cell_type": "code",
   "execution_count": 257,
   "metadata": {
    "collapsed": false
   },
   "outputs": [
    {
     "data": {
      "text/html": [
       "<div>\n",
       "<table border=\"1\" class=\"dataframe\">\n",
       "  <thead>\n",
       "    <tr style=\"text-align: right;\">\n",
       "      <th></th>\n",
       "      <th>min</th>\n",
       "      <th>max</th>\n",
       "      <th>mean</th>\n",
       "      <th>median</th>\n",
       "      <th>std</th>\n",
       "    </tr>\n",
       "    <tr>\n",
       "      <th>segment</th>\n",
       "      <th></th>\n",
       "      <th></th>\n",
       "      <th></th>\n",
       "      <th></th>\n",
       "      <th></th>\n",
       "    </tr>\n",
       "  </thead>\n",
       "  <tbody>\n",
       "    <tr>\n",
       "      <th>1</th>\n",
       "      <td>0.0</td>\n",
       "      <td>1890.0</td>\n",
       "      <td>32.707106</td>\n",
       "      <td>14.0</td>\n",
       "      <td>61.591868</td>\n",
       "    </tr>\n",
       "    <tr>\n",
       "      <th>2</th>\n",
       "      <td>0.0</td>\n",
       "      <td>13787.0</td>\n",
       "      <td>942.318646</td>\n",
       "      <td>371.0</td>\n",
       "      <td>1624.339623</td>\n",
       "    </tr>\n",
       "  </tbody>\n",
       "</table>\n",
       "</div>"
      ],
      "text/plain": [
       "         min      max        mean  median          std\n",
       "segment                                               \n",
       "1        0.0   1890.0   32.707106    14.0    61.591868\n",
       "2        0.0  13787.0  942.318646   371.0  1624.339623"
      ]
     },
     "execution_count": 257,
     "metadata": {},
     "output_type": "execute_result"
    }
   ],
   "source": [
    "train.groupby('segment')['case_count'].agg(['min','max','mean','median','std'])\n",
    "# We can see that the Maximum value of case_count belongs to segment 2. \n",
    "# all these values for segment1 are higher than segment2."
   ]
  },
  {
   "cell_type": "code",
   "execution_count": 258,
   "metadata": {
    "collapsed": false
   },
   "outputs": [
    {
     "data": {
      "text/html": [
       "<div>\n",
       "<table border=\"1\" class=\"dataframe\">\n",
       "  <thead>\n",
       "    <tr style=\"text-align: right;\">\n",
       "      <th></th>\n",
       "      <th>count</th>\n",
       "      <th>min</th>\n",
       "      <th>max</th>\n",
       "      <th>mean</th>\n",
       "      <th>median</th>\n",
       "      <th>std</th>\n",
       "      <th>sum</th>\n",
       "    </tr>\n",
       "    <tr>\n",
       "      <th>state</th>\n",
       "      <th></th>\n",
       "      <th></th>\n",
       "      <th></th>\n",
       "      <th></th>\n",
       "      <th></th>\n",
       "      <th></th>\n",
       "      <th></th>\n",
       "    </tr>\n",
       "  </thead>\n",
       "  <tbody>\n",
       "    <tr>\n",
       "      <th>DELHI</th>\n",
       "      <td>806</td>\n",
       "      <td>0.0</td>\n",
       "      <td>1488.0</td>\n",
       "      <td>168.486352</td>\n",
       "      <td>136.0</td>\n",
       "      <td>148.757794</td>\n",
       "      <td>135800.0</td>\n",
       "    </tr>\n",
       "    <tr>\n",
       "      <th>UTTARAKHAND</th>\n",
       "      <td>1612</td>\n",
       "      <td>0.0</td>\n",
       "      <td>383.0</td>\n",
       "      <td>24.782258</td>\n",
       "      <td>20.0</td>\n",
       "      <td>27.525605</td>\n",
       "      <td>39949.0</td>\n",
       "    </tr>\n",
       "    <tr>\n",
       "      <th>TELANGANA</th>\n",
       "      <td>1612</td>\n",
       "      <td>0.0</td>\n",
       "      <td>1038.0</td>\n",
       "      <td>56.153226</td>\n",
       "      <td>0.0</td>\n",
       "      <td>88.913544</td>\n",
       "      <td>90519.0</td>\n",
       "    </tr>\n",
       "    <tr>\n",
       "      <th>KERALA</th>\n",
       "      <td>1650</td>\n",
       "      <td>0.0</td>\n",
       "      <td>3369.0</td>\n",
       "      <td>496.008485</td>\n",
       "      <td>39.5</td>\n",
       "      <td>722.016808</td>\n",
       "      <td>818414.0</td>\n",
       "    </tr>\n",
       "    <tr>\n",
       "      <th>CHHATTISGARH</th>\n",
       "      <td>1650</td>\n",
       "      <td>0.0</td>\n",
       "      <td>1111.0</td>\n",
       "      <td>181.298788</td>\n",
       "      <td>22.5</td>\n",
       "      <td>241.012685</td>\n",
       "      <td>299143.0</td>\n",
       "    </tr>\n",
       "    <tr>\n",
       "      <th>MADHYA PRADESH</th>\n",
       "      <td>1650</td>\n",
       "      <td>0.0</td>\n",
       "      <td>2350.0</td>\n",
       "      <td>348.672121</td>\n",
       "      <td>87.0</td>\n",
       "      <td>455.859267</td>\n",
       "      <td>575309.0</td>\n",
       "    </tr>\n",
       "    <tr>\n",
       "      <th>TRIPURA</th>\n",
       "      <td>2456</td>\n",
       "      <td>0.0</td>\n",
       "      <td>997.0</td>\n",
       "      <td>82.313111</td>\n",
       "      <td>32.0</td>\n",
       "      <td>142.665541</td>\n",
       "      <td>202161.0</td>\n",
       "    </tr>\n",
       "    <tr>\n",
       "      <th>JHARKHAND</th>\n",
       "      <td>2456</td>\n",
       "      <td>0.0</td>\n",
       "      <td>833.0</td>\n",
       "      <td>69.036645</td>\n",
       "      <td>20.0</td>\n",
       "      <td>137.794878</td>\n",
       "      <td>169554.0</td>\n",
       "    </tr>\n",
       "    <tr>\n",
       "      <th>BIHAR</th>\n",
       "      <td>3262</td>\n",
       "      <td>0.0</td>\n",
       "      <td>7691.0</td>\n",
       "      <td>419.025445</td>\n",
       "      <td>25.0</td>\n",
       "      <td>1111.541528</td>\n",
       "      <td>1366861.0</td>\n",
       "    </tr>\n",
       "    <tr>\n",
       "      <th>KARNATAKA</th>\n",
       "      <td>3262</td>\n",
       "      <td>0.0</td>\n",
       "      <td>5202.0</td>\n",
       "      <td>519.345494</td>\n",
       "      <td>35.0</td>\n",
       "      <td>972.285346</td>\n",
       "      <td>1694105.0</td>\n",
       "    </tr>\n",
       "    <tr>\n",
       "      <th>ORISSA</th>\n",
       "      <td>3262</td>\n",
       "      <td>0.0</td>\n",
       "      <td>5831.0</td>\n",
       "      <td>408.938688</td>\n",
       "      <td>45.0</td>\n",
       "      <td>950.226384</td>\n",
       "      <td>1333958.0</td>\n",
       "    </tr>\n",
       "    <tr>\n",
       "      <th>ASSAM</th>\n",
       "      <td>4068</td>\n",
       "      <td>0.0</td>\n",
       "      <td>3208.0</td>\n",
       "      <td>187.618240</td>\n",
       "      <td>28.0</td>\n",
       "      <td>454.378089</td>\n",
       "      <td>763231.0</td>\n",
       "    </tr>\n",
       "    <tr>\n",
       "      <th>HARYANA</th>\n",
       "      <td>4068</td>\n",
       "      <td>0.0</td>\n",
       "      <td>118.0</td>\n",
       "      <td>2.961652</td>\n",
       "      <td>0.0</td>\n",
       "      <td>7.547701</td>\n",
       "      <td>12048.0</td>\n",
       "    </tr>\n",
       "    <tr>\n",
       "      <th>ANDHRA PRADESH</th>\n",
       "      <td>4836</td>\n",
       "      <td>0.0</td>\n",
       "      <td>179.0</td>\n",
       "      <td>3.517370</td>\n",
       "      <td>0.0</td>\n",
       "      <td>8.804760</td>\n",
       "      <td>17010.0</td>\n",
       "    </tr>\n",
       "    <tr>\n",
       "      <th>PUNJAB</th>\n",
       "      <td>4874</td>\n",
       "      <td>0.0</td>\n",
       "      <td>448.0</td>\n",
       "      <td>14.948502</td>\n",
       "      <td>8.0</td>\n",
       "      <td>25.272373</td>\n",
       "      <td>72859.0</td>\n",
       "    </tr>\n",
       "    <tr>\n",
       "      <th>TAMIL NADU</th>\n",
       "      <td>6486</td>\n",
       "      <td>0.0</td>\n",
       "      <td>13787.0</td>\n",
       "      <td>634.457601</td>\n",
       "      <td>11.0</td>\n",
       "      <td>2032.364822</td>\n",
       "      <td>4115092.0</td>\n",
       "    </tr>\n",
       "    <tr>\n",
       "      <th>UTTAR PRADESH</th>\n",
       "      <td>6486</td>\n",
       "      <td>0.0</td>\n",
       "      <td>1203.0</td>\n",
       "      <td>43.638760</td>\n",
       "      <td>0.0</td>\n",
       "      <td>131.554427</td>\n",
       "      <td>283041.0</td>\n",
       "    </tr>\n",
       "    <tr>\n",
       "      <th>GUJARAT</th>\n",
       "      <td>7292</td>\n",
       "      <td>0.0</td>\n",
       "      <td>1890.0</td>\n",
       "      <td>84.943774</td>\n",
       "      <td>25.0</td>\n",
       "      <td>151.453904</td>\n",
       "      <td>619410.0</td>\n",
       "    </tr>\n",
       "    <tr>\n",
       "      <th>WEST BENGAL</th>\n",
       "      <td>7292</td>\n",
       "      <td>0.0</td>\n",
       "      <td>4962.0</td>\n",
       "      <td>212.441306</td>\n",
       "      <td>40.0</td>\n",
       "      <td>580.958702</td>\n",
       "      <td>1549122.0</td>\n",
       "    </tr>\n",
       "    <tr>\n",
       "      <th>MAHARASHTRA</th>\n",
       "      <td>11322</td>\n",
       "      <td>0.0</td>\n",
       "      <td>1754.0</td>\n",
       "      <td>66.730701</td>\n",
       "      <td>27.0</td>\n",
       "      <td>124.410140</td>\n",
       "      <td>755525.0</td>\n",
       "    </tr>\n",
       "  </tbody>\n",
       "</table>\n",
       "</div>"
      ],
      "text/plain": [
       "                count  min      max        mean  median          std  \\\n",
       "state                                                                  \n",
       "DELHI             806  0.0   1488.0  168.486352   136.0   148.757794   \n",
       "UTTARAKHAND      1612  0.0    383.0   24.782258    20.0    27.525605   \n",
       "TELANGANA        1612  0.0   1038.0   56.153226     0.0    88.913544   \n",
       "KERALA           1650  0.0   3369.0  496.008485    39.5   722.016808   \n",
       "CHHATTISGARH     1650  0.0   1111.0  181.298788    22.5   241.012685   \n",
       "MADHYA PRADESH   1650  0.0   2350.0  348.672121    87.0   455.859267   \n",
       "TRIPURA          2456  0.0    997.0   82.313111    32.0   142.665541   \n",
       "JHARKHAND        2456  0.0    833.0   69.036645    20.0   137.794878   \n",
       "BIHAR            3262  0.0   7691.0  419.025445    25.0  1111.541528   \n",
       "KARNATAKA        3262  0.0   5202.0  519.345494    35.0   972.285346   \n",
       "ORISSA           3262  0.0   5831.0  408.938688    45.0   950.226384   \n",
       "ASSAM            4068  0.0   3208.0  187.618240    28.0   454.378089   \n",
       "HARYANA          4068  0.0    118.0    2.961652     0.0     7.547701   \n",
       "ANDHRA PRADESH   4836  0.0    179.0    3.517370     0.0     8.804760   \n",
       "PUNJAB           4874  0.0    448.0   14.948502     8.0    25.272373   \n",
       "TAMIL NADU       6486  0.0  13787.0  634.457601    11.0  2032.364822   \n",
       "UTTAR PRADESH    6486  0.0   1203.0   43.638760     0.0   131.554427   \n",
       "GUJARAT          7292  0.0   1890.0   84.943774    25.0   151.453904   \n",
       "WEST BENGAL      7292  0.0   4962.0  212.441306    40.0   580.958702   \n",
       "MAHARASHTRA     11322  0.0   1754.0   66.730701    27.0   124.410140   \n",
       "\n",
       "                      sum  \n",
       "state                      \n",
       "DELHI            135800.0  \n",
       "UTTARAKHAND       39949.0  \n",
       "TELANGANA         90519.0  \n",
       "KERALA           818414.0  \n",
       "CHHATTISGARH     299143.0  \n",
       "MADHYA PRADESH   575309.0  \n",
       "TRIPURA          202161.0  \n",
       "JHARKHAND        169554.0  \n",
       "BIHAR           1366861.0  \n",
       "KARNATAKA       1694105.0  \n",
       "ORISSA          1333958.0  \n",
       "ASSAM            763231.0  \n",
       "HARYANA           12048.0  \n",
       "ANDHRA PRADESH    17010.0  \n",
       "PUNJAB            72859.0  \n",
       "TAMIL NADU      4115092.0  \n",
       "UTTAR PRADESH    283041.0  \n",
       "GUJARAT          619410.0  \n",
       "WEST BENGAL     1549122.0  \n",
       "MAHARASHTRA      755525.0  "
      ]
     },
     "execution_count": 258,
     "metadata": {},
     "output_type": "execute_result"
    }
   ],
   "source": [
    "train.groupby('state')['case_count'].agg(['count','min','max','mean','median','std','sum']).sort_values(by='count')\n",
    "# Although the count of Maharashtra is maximum, the sum of all case counts is maximum for Tamil Nadu."
   ]
  },
  {
   "cell_type": "code",
   "execution_count": 259,
   "metadata": {
    "collapsed": false
   },
   "outputs": [
    {
     "data": {
      "text/plain": [
       "<matplotlib.axes._subplots.AxesSubplot at 0x1d843b9a390>"
      ]
     },
     "execution_count": 259,
     "metadata": {},
     "output_type": "execute_result"
    },
    {
     "data": {
      "image/png": "[encoded data removed]",
      "text/plain": [
       "<Figure size 432x288 with 1 Axes>"
      ]
     },
     "metadata": {},
     "output_type": "display_data"
    }
   ],
   "source": [
    "train.groupby('state')['case_count'].sum().sort_values().plot(kind='bar')"
   ]
  },
  {
   "cell_type": "code",
   "execution_count": 260,
   "metadata": {
    "collapsed": false
   },
   "outputs": [
    {
     "data": {
      "text/html": [
       "<div>\n",
       "<table border=\"1\" class=\"dataframe\">\n",
       "  <thead>\n",
       "    <tr style=\"text-align: right;\">\n",
       "      <th></th>\n",
       "      <th>count</th>\n",
       "      <th>min</th>\n",
       "      <th>max</th>\n",
       "      <th>mean</th>\n",
       "      <th>median</th>\n",
       "      <th>std</th>\n",
       "      <th>sum</th>\n",
       "    </tr>\n",
       "    <tr>\n",
       "      <th>zone</th>\n",
       "      <th></th>\n",
       "      <th></th>\n",
       "      <th></th>\n",
       "      <th></th>\n",
       "      <th></th>\n",
       "      <th></th>\n",
       "      <th></th>\n",
       "    </tr>\n",
       "  </thead>\n",
       "  <tbody>\n",
       "    <tr>\n",
       "      <th>CENTRAL</th>\n",
       "      <td>1612</td>\n",
       "      <td>0.0</td>\n",
       "      <td>609.0</td>\n",
       "      <td>23.082506</td>\n",
       "      <td>11.0</td>\n",
       "      <td>36.657118</td>\n",
       "      <td>37209.0</td>\n",
       "    </tr>\n",
       "    <tr>\n",
       "      <th>NORTH</th>\n",
       "      <td>8060</td>\n",
       "      <td>0.0</td>\n",
       "      <td>1488.0</td>\n",
       "      <td>27.383002</td>\n",
       "      <td>6.0</td>\n",
       "      <td>69.671582</td>\n",
       "      <td>220707.0</td>\n",
       "    </tr>\n",
       "    <tr>\n",
       "      <th>WEST</th>\n",
       "      <td>16926</td>\n",
       "      <td>0.0</td>\n",
       "      <td>1890.0</td>\n",
       "      <td>46.985053</td>\n",
       "      <td>23.0</td>\n",
       "      <td>77.373460</td>\n",
       "      <td>795269.0</td>\n",
       "    </tr>\n",
       "    <tr>\n",
       "      <th>SOUTH</th>\n",
       "      <td>18538</td>\n",
       "      <td>0.0</td>\n",
       "      <td>1143.0</td>\n",
       "      <td>26.973784</td>\n",
       "      <td>8.0</td>\n",
       "      <td>54.089844</td>\n",
       "      <td>500040.0</td>\n",
       "    </tr>\n",
       "    <tr>\n",
       "      <th>EAST</th>\n",
       "      <td>21762</td>\n",
       "      <td>0.0</td>\n",
       "      <td>1657.0</td>\n",
       "      <td>29.170802</td>\n",
       "      <td>16.0</td>\n",
       "      <td>48.989433</td>\n",
       "      <td>634815.0</td>\n",
       "    </tr>\n",
       "  </tbody>\n",
       "</table>\n",
       "</div>"
      ],
      "text/plain": [
       "         count  min     max       mean  median        std       sum\n",
       "zone                                                               \n",
       "CENTRAL   1612  0.0   609.0  23.082506    11.0  36.657118   37209.0\n",
       "NORTH     8060  0.0  1488.0  27.383002     6.0  69.671582  220707.0\n",
       "WEST     16926  0.0  1890.0  46.985053    23.0  77.373460  795269.0\n",
       "SOUTH    18538  0.0  1143.0  26.973784     8.0  54.089844  500040.0\n",
       "EAST     21762  0.0  1657.0  29.170802    16.0  48.989433  634815.0"
      ]
     },
     "execution_count": 260,
     "metadata": {},
     "output_type": "execute_result"
    }
   ],
   "source": [
    "train.groupby('zone')['case_count'].agg(['count','min','max','mean','median','std','sum']).sort_values(by='count')\n",
    "# Even here, although the count of East zone is maximum, but the total case_counts received in West zone is highest."
   ]
  },
  {
   "cell_type": "code",
   "execution_count": 261,
   "metadata": {
    "collapsed": false
   },
   "outputs": [
    {
     "data": {
      "text/plain": [
       "<matplotlib.axes._subplots.AxesSubplot at 0x1d846c9df28>"
      ]
     },
     "execution_count": 261,
     "metadata": {},
     "output_type": "execute_result"
    },
    {
     "data": {
      "image/png": "[encoded data removed]",
      "text/plain": [
       "<Figure size 432x288 with 1 Axes>"
      ]
     },
     "metadata": {},
     "output_type": "display_data"
    }
   ],
   "source": [
    "train.groupby('zone')['case_count'].sum().sort_values().plot(kind='bar')"
   ]
  },
  {
   "cell_type": "code",
   "execution_count": 262,
   "metadata": {
    "collapsed": false
   },
   "outputs": [],
   "source": [
    "# Let's create some additional datetime based features\n",
    "train['year'] = train.application_date.dt.year\n",
    "train['month'] = train.application_date.dt.month\n",
    "train['dayofweek'] = train.application_date.dt.dayofweek\n",
    "train['day'] = train.application_date.dt.day\n",
    "train['quarter'] = train.application_date.dt.quarter\n",
    "train['is_month_start'] = train.application_date.dt.is_month_start\n",
    "train['is_month_end'] = train.application_date.dt.is_month_end\n",
    "train['is_quarter_start'] = train.application_date.dt.is_quarter_start\n",
    "train['is_quarter_end'] = train.application_date.dt.is_quarter_end"
   ]
  },
  {
   "cell_type": "code",
   "execution_count": 263,
   "metadata": {
    "collapsed": false
   },
   "outputs": [
    {
     "data": {
      "text/html": [
       "<div>\n",
       "<table border=\"1\" class=\"dataframe\">\n",
       "  <thead>\n",
       "    <tr style=\"text-align: right;\">\n",
       "      <th></th>\n",
       "      <th>application_date</th>\n",
       "      <th>segment</th>\n",
       "      <th>branch_id</th>\n",
       "      <th>state</th>\n",
       "      <th>zone</th>\n",
       "      <th>case_count</th>\n",
       "      <th>year</th>\n",
       "      <th>month</th>\n",
       "      <th>dayofweek</th>\n",
       "      <th>day</th>\n",
       "      <th>quarter</th>\n",
       "      <th>is_month_start</th>\n",
       "      <th>is_month_end</th>\n",
       "      <th>is_quarter_start</th>\n",
       "      <th>is_quarter_end</th>\n",
       "    </tr>\n",
       "  </thead>\n",
       "  <tbody>\n",
       "    <tr>\n",
       "      <th>0</th>\n",
       "      <td>2017-04-01</td>\n",
       "      <td>1</td>\n",
       "      <td>1.0</td>\n",
       "      <td>WEST BENGAL</td>\n",
       "      <td>EAST</td>\n",
       "      <td>40.0</td>\n",
       "      <td>2017</td>\n",
       "      <td>4</td>\n",
       "      <td>5</td>\n",
       "      <td>1</td>\n",
       "      <td>2</td>\n",
       "      <td>True</td>\n",
       "      <td>False</td>\n",
       "      <td>True</td>\n",
       "      <td>False</td>\n",
       "    </tr>\n",
       "    <tr>\n",
       "      <th>1</th>\n",
       "      <td>2017-04-03</td>\n",
       "      <td>1</td>\n",
       "      <td>1.0</td>\n",
       "      <td>WEST BENGAL</td>\n",
       "      <td>EAST</td>\n",
       "      <td>5.0</td>\n",
       "      <td>2017</td>\n",
       "      <td>4</td>\n",
       "      <td>0</td>\n",
       "      <td>3</td>\n",
       "      <td>2</td>\n",
       "      <td>False</td>\n",
       "      <td>False</td>\n",
       "      <td>False</td>\n",
       "      <td>False</td>\n",
       "    </tr>\n",
       "    <tr>\n",
       "      <th>2</th>\n",
       "      <td>2017-04-04</td>\n",
       "      <td>1</td>\n",
       "      <td>1.0</td>\n",
       "      <td>WEST BENGAL</td>\n",
       "      <td>EAST</td>\n",
       "      <td>4.0</td>\n",
       "      <td>2017</td>\n",
       "      <td>4</td>\n",
       "      <td>1</td>\n",
       "      <td>4</td>\n",
       "      <td>2</td>\n",
       "      <td>False</td>\n",
       "      <td>False</td>\n",
       "      <td>False</td>\n",
       "      <td>False</td>\n",
       "    </tr>\n",
       "    <tr>\n",
       "      <th>3</th>\n",
       "      <td>2017-04-05</td>\n",
       "      <td>1</td>\n",
       "      <td>1.0</td>\n",
       "      <td>WEST BENGAL</td>\n",
       "      <td>EAST</td>\n",
       "      <td>113.0</td>\n",
       "      <td>2017</td>\n",
       "      <td>4</td>\n",
       "      <td>2</td>\n",
       "      <td>5</td>\n",
       "      <td>2</td>\n",
       "      <td>False</td>\n",
       "      <td>False</td>\n",
       "      <td>False</td>\n",
       "      <td>False</td>\n",
       "    </tr>\n",
       "    <tr>\n",
       "      <th>4</th>\n",
       "      <td>2017-04-07</td>\n",
       "      <td>1</td>\n",
       "      <td>1.0</td>\n",
       "      <td>WEST BENGAL</td>\n",
       "      <td>EAST</td>\n",
       "      <td>76.0</td>\n",
       "      <td>2017</td>\n",
       "      <td>4</td>\n",
       "      <td>4</td>\n",
       "      <td>7</td>\n",
       "      <td>2</td>\n",
       "      <td>False</td>\n",
       "      <td>False</td>\n",
       "      <td>False</td>\n",
       "      <td>False</td>\n",
       "    </tr>\n",
       "  </tbody>\n",
       "</table>\n",
       "</div>"
      ],
      "text/plain": [
       "  application_date  segment  branch_id        state  zone  case_count  year  \\\n",
       "0       2017-04-01        1        1.0  WEST BENGAL  EAST        40.0  2017   \n",
       "1       2017-04-03        1        1.0  WEST BENGAL  EAST         5.0  2017   \n",
       "2       2017-04-04        1        1.0  WEST BENGAL  EAST         4.0  2017   \n",
       "3       2017-04-05        1        1.0  WEST BENGAL  EAST       113.0  2017   \n",
       "4       2017-04-07        1        1.0  WEST BENGAL  EAST        76.0  2017   \n",
       "\n",
       "   month  dayofweek  day  quarter is_month_start is_month_end  \\\n",
       "0      4          5    1        2           True        False   \n",
       "1      4          0    3        2          False        False   \n",
       "2      4          1    4        2          False        False   \n",
       "3      4          2    5        2          False        False   \n",
       "4      4          4    7        2          False        False   \n",
       "\n",
       "  is_quarter_start is_quarter_end  \n",
       "0             True          False  \n",
       "1            False          False  \n",
       "2            False          False  \n",
       "3            False          False  \n",
       "4            False          False  "
      ]
     },
     "execution_count": 263,
     "metadata": {},
     "output_type": "execute_result"
    }
   ],
   "source": [
    "train.head()"
   ]
  },
  {
   "cell_type": "code",
   "execution_count": 264,
   "metadata": {
    "collapsed": false
   },
   "outputs": [
    {
     "data": {
      "text/plain": [
       "<matplotlib.legend.Legend at 0x1d846e1efd0>"
      ]
     },
     "execution_count": 264,
     "metadata": {},
     "output_type": "execute_result"
    },
    {
     "data": {
      "image/png": "[encoded data removed]",
      "text/plain": [
       "<Figure size 720x432 with 1 Axes>"
      ]
     },
     "metadata": {},
     "output_type": "display_data"
    }
   ],
   "source": [
    "train.set_index('application_date').resample('D')['case_count'].sum().plot(kind='line',figsize=(10,6),label='Total_case_Count_by_Day')\n",
    "plt.title(\"Total Case Count by Day\")\n",
    "plt.xlabel('Day')\n",
    "plt.ylabel(\"Sum of Case Counts\")\n",
    "plt.legend(loc='best')\n",
    "# We can see some kind of trend here, the sum total of case counts increases for sometime and then stays almost same. \n",
    "# We can also see a spike that is apart from the trend around July-Oct of 2018."
   ]
  },
  {
   "cell_type": "code",
   "execution_count": 265,
   "metadata": {
    "collapsed": false
   },
   "outputs": [
    {
     "data": {
      "text/plain": [
       "<matplotlib.legend.Legend at 0x1d846c8d898>"
      ]
     },
     "execution_count": 265,
     "metadata": {},
     "output_type": "execute_result"
    },
    {
     "data": {
      "image/png": "[encoded data removed]",
      "text/plain": [
       "<Figure size 720x432 with 1 Axes>"
      ]
     },
     "metadata": {},
     "output_type": "display_data"
    }
   ],
   "source": [
    "train.set_index('application_date')['case_count'].plot(kind='line',figsize=(10,6),label='Case_Counts_by_Day')\n",
    "plt.title(\"Case Count by Day\")\n",
    "plt.xlabel('Day')\n",
    "plt.ylabel(\"Case Counts\")\n",
    "plt.legend(loc='best')\n",
    "# We can see increasing and decreasing trends here"
   ]
  },
  {
   "cell_type": "code",
   "execution_count": 266,
   "metadata": {
    "collapsed": false
   },
   "outputs": [
    {
     "data": {
      "text/plain": [
       "<matplotlib.axes._subplots.AxesSubplot at 0x1d846e31d68>"
      ]
     },
     "execution_count": 266,
     "metadata": {},
     "output_type": "execute_result"
    },
    {
     "data": {
      "image/png": "[encoded data removed]",
      "text/plain": [
       "<Figure size 432x288 with 1 Axes>"
      ]
     },
     "metadata": {},
     "output_type": "display_data"
    }
   ],
   "source": [
    "train.groupby('month')['case_count'].sum().sort_values().plot(kind='bar')\n",
    "# case_count sum is maximum during the month of June followed by July,March and May which are close to each other. It is minimum\n",
    "# in the month of August."
   ]
  },
  {
   "cell_type": "code",
   "execution_count": 267,
   "metadata": {
    "collapsed": false
   },
   "outputs": [
    {
     "data": {
      "text/html": [
       "<div>\n",
       "<table border=\"1\" class=\"dataframe\">\n",
       "  <thead>\n",
       "    <tr style=\"text-align: right;\">\n",
       "      <th></th>\n",
       "      <th>count</th>\n",
       "      <th>min</th>\n",
       "      <th>max</th>\n",
       "      <th>sum</th>\n",
       "      <th>mean</th>\n",
       "    </tr>\n",
       "    <tr>\n",
       "      <th>dayofweek</th>\n",
       "      <th></th>\n",
       "      <th></th>\n",
       "      <th></th>\n",
       "      <th></th>\n",
       "      <th></th>\n",
       "    </tr>\n",
       "  </thead>\n",
       "  <tbody>\n",
       "    <tr>\n",
       "      <th>6</th>\n",
       "      <td>11149</td>\n",
       "      <td>0.0</td>\n",
       "      <td>10250.0</td>\n",
       "      <td>1436647.0</td>\n",
       "      <td>128.858821</td>\n",
       "    </tr>\n",
       "    <tr>\n",
       "      <th>5</th>\n",
       "      <td>11398</td>\n",
       "      <td>0.0</td>\n",
       "      <td>13787.0</td>\n",
       "      <td>2135403.0</td>\n",
       "      <td>187.348921</td>\n",
       "    </tr>\n",
       "    <tr>\n",
       "      <th>2</th>\n",
       "      <td>11548</td>\n",
       "      <td>0.0</td>\n",
       "      <td>11160.0</td>\n",
       "      <td>2314316.0</td>\n",
       "      <td>200.408382</td>\n",
       "    </tr>\n",
       "    <tr>\n",
       "      <th>4</th>\n",
       "      <td>11548</td>\n",
       "      <td>0.0</td>\n",
       "      <td>13118.0</td>\n",
       "      <td>2262137.0</td>\n",
       "      <td>195.889938</td>\n",
       "    </tr>\n",
       "    <tr>\n",
       "      <th>0</th>\n",
       "      <td>11564</td>\n",
       "      <td>0.0</td>\n",
       "      <td>10805.0</td>\n",
       "      <td>2173422.0</td>\n",
       "      <td>187.947250</td>\n",
       "    </tr>\n",
       "    <tr>\n",
       "      <th>1</th>\n",
       "      <td>11564</td>\n",
       "      <td>0.0</td>\n",
       "      <td>11506.0</td>\n",
       "      <td>2280995.0</td>\n",
       "      <td>197.249654</td>\n",
       "    </tr>\n",
       "    <tr>\n",
       "      <th>3</th>\n",
       "      <td>11631</td>\n",
       "      <td>0.0</td>\n",
       "      <td>12908.0</td>\n",
       "      <td>2310191.0</td>\n",
       "      <td>198.623592</td>\n",
       "    </tr>\n",
       "  </tbody>\n",
       "</table>\n",
       "</div>"
      ],
      "text/plain": [
       "           count  min      max        sum        mean\n",
       "dayofweek                                            \n",
       "6          11149  0.0  10250.0  1436647.0  128.858821\n",
       "5          11398  0.0  13787.0  2135403.0  187.348921\n",
       "2          11548  0.0  11160.0  2314316.0  200.408382\n",
       "4          11548  0.0  13118.0  2262137.0  195.889938\n",
       "0          11564  0.0  10805.0  2173422.0  187.947250\n",
       "1          11564  0.0  11506.0  2280995.0  197.249654\n",
       "3          11631  0.0  12908.0  2310191.0  198.623592"
      ]
     },
     "execution_count": 267,
     "metadata": {},
     "output_type": "execute_result"
    }
   ],
   "source": [
    "train.groupby('dayofweek')['case_count'].agg(['count','min','max','sum','mean']).sort_values(by='count')\n",
    "# Thursday has the highest occurence and Sunday has the least. \n",
    "# Wednesday has the highest sum total of case counts."
   ]
  },
  {
   "cell_type": "code",
   "execution_count": 268,
   "metadata": {
    "collapsed": false
   },
   "outputs": [
    {
     "data": {
      "text/html": [
       "<div>\n",
       "<table border=\"1\" class=\"dataframe\">\n",
       "  <thead>\n",
       "    <tr style=\"text-align: right;\">\n",
       "      <th></th>\n",
       "      <th></th>\n",
       "      <th>count</th>\n",
       "      <th>min</th>\n",
       "      <th>max</th>\n",
       "      <th>sum</th>\n",
       "      <th>mean</th>\n",
       "    </tr>\n",
       "    <tr>\n",
       "      <th>year</th>\n",
       "      <th>quarter</th>\n",
       "      <th></th>\n",
       "      <th></th>\n",
       "      <th></th>\n",
       "      <th></th>\n",
       "      <th></th>\n",
       "    </tr>\n",
       "  </thead>\n",
       "  <tbody>\n",
       "    <tr>\n",
       "      <th rowspan=\"3\" valign=\"top\">2017</th>\n",
       "      <th>2</th>\n",
       "      <td>8428</td>\n",
       "      <td>0.0</td>\n",
       "      <td>5274.0</td>\n",
       "      <td>706232.0</td>\n",
       "      <td>83.795918</td>\n",
       "    </tr>\n",
       "    <tr>\n",
       "      <th>3</th>\n",
       "      <td>8361</td>\n",
       "      <td>0.0</td>\n",
       "      <td>8884.0</td>\n",
       "      <td>1197941.0</td>\n",
       "      <td>143.277240</td>\n",
       "    </tr>\n",
       "    <tr>\n",
       "      <th>4</th>\n",
       "      <td>9108</td>\n",
       "      <td>0.0</td>\n",
       "      <td>9963.0</td>\n",
       "      <td>1449814.0</td>\n",
       "      <td>159.180281</td>\n",
       "    </tr>\n",
       "    <tr>\n",
       "      <th rowspan=\"4\" valign=\"top\">2018</th>\n",
       "      <th>1</th>\n",
       "      <td>8578</td>\n",
       "      <td>0.0</td>\n",
       "      <td>11288.0</td>\n",
       "      <td>1728408.0</td>\n",
       "      <td>201.493122</td>\n",
       "    </tr>\n",
       "    <tr>\n",
       "      <th>2</th>\n",
       "      <td>9009</td>\n",
       "      <td>0.0</td>\n",
       "      <td>11241.0</td>\n",
       "      <td>1812629.0</td>\n",
       "      <td>201.202020</td>\n",
       "    </tr>\n",
       "    <tr>\n",
       "      <th>3</th>\n",
       "      <td>9108</td>\n",
       "      <td>0.0</td>\n",
       "      <td>12908.0</td>\n",
       "      <td>2027253.0</td>\n",
       "      <td>222.579381</td>\n",
       "    </tr>\n",
       "    <tr>\n",
       "      <th>4</th>\n",
       "      <td>9108</td>\n",
       "      <td>0.0</td>\n",
       "      <td>11536.0</td>\n",
       "      <td>1919816.0</td>\n",
       "      <td>210.783487</td>\n",
       "    </tr>\n",
       "    <tr>\n",
       "      <th rowspan=\"3\" valign=\"top\">2019</th>\n",
       "      <th>1</th>\n",
       "      <td>8910</td>\n",
       "      <td>0.0</td>\n",
       "      <td>13787.0</td>\n",
       "      <td>1944961.0</td>\n",
       "      <td>218.289675</td>\n",
       "    </tr>\n",
       "    <tr>\n",
       "      <th>2</th>\n",
       "      <td>9009</td>\n",
       "      <td>0.0</td>\n",
       "      <td>10629.0</td>\n",
       "      <td>1734401.0</td>\n",
       "      <td>192.518704</td>\n",
       "    </tr>\n",
       "    <tr>\n",
       "      <th>3</th>\n",
       "      <td>783</td>\n",
       "      <td>0.0</td>\n",
       "      <td>10099.0</td>\n",
       "      <td>391656.0</td>\n",
       "      <td>500.199234</td>\n",
       "    </tr>\n",
       "  </tbody>\n",
       "</table>\n",
       "</div>"
      ],
      "text/plain": [
       "              count  min      max        sum        mean\n",
       "year quarter                                            \n",
       "2017 2         8428  0.0   5274.0   706232.0   83.795918\n",
       "     3         8361  0.0   8884.0  1197941.0  143.277240\n",
       "     4         9108  0.0   9963.0  1449814.0  159.180281\n",
       "2018 1         8578  0.0  11288.0  1728408.0  201.493122\n",
       "     2         9009  0.0  11241.0  1812629.0  201.202020\n",
       "     3         9108  0.0  12908.0  2027253.0  222.579381\n",
       "     4         9108  0.0  11536.0  1919816.0  210.783487\n",
       "2019 1         8910  0.0  13787.0  1944961.0  218.289675\n",
       "     2         9009  0.0  10629.0  1734401.0  192.518704\n",
       "     3          783  0.0  10099.0   391656.0  500.199234"
      ]
     },
     "execution_count": 268,
     "metadata": {},
     "output_type": "execute_result"
    }
   ],
   "source": [
    "train.groupby(['year','quarter'])['case_count'].agg(['count','min','max','sum','mean'])\n",
    "# Count is maximum during the 4th Quarter of 2017 and 3rd and 4th quarter of 2018.\n",
    "# Sum is maximum during 3rd quarter of 2017."
   ]
  },
  {
   "cell_type": "code",
   "execution_count": 269,
   "metadata": {
    "collapsed": true
   },
   "outputs": [],
   "source": [
    "test['year'] = test.application_date.dt.year\n",
    "test['month'] = test.application_date.dt.month\n",
    "test['dayofweek'] = test.application_date.dt.dayofweek\n",
    "test['day'] = test.application_date.dt.day\n",
    "test['quarter'] = test.application_date.dt.quarter\n",
    "test['is_month_start'] = test.application_date.dt.is_month_start\n",
    "test['is_month_end'] = test.application_date.dt.is_month_end\n",
    "test['is_quarter_start'] = test.application_date.dt.is_quarter_start\n",
    "test['is_quarter_end'] = test.application_date.dt.is_quarter_end"
   ]
  },
  {
   "cell_type": "code",
   "execution_count": 270,
   "metadata": {
    "collapsed": false
   },
   "outputs": [
    {
     "data": {
      "text/html": [
       "<div>\n",
       "<table border=\"1\" class=\"dataframe\">\n",
       "  <thead>\n",
       "    <tr style=\"text-align: right;\">\n",
       "      <th></th>\n",
       "      <th>application_date</th>\n",
       "      <th>segment</th>\n",
       "      <th>branch_id</th>\n",
       "      <th>state</th>\n",
       "      <th>zone</th>\n",
       "      <th>case_count</th>\n",
       "      <th>year</th>\n",
       "      <th>month</th>\n",
       "      <th>dayofweek</th>\n",
       "      <th>day</th>\n",
       "      <th>quarter</th>\n",
       "      <th>is_month_start</th>\n",
       "      <th>is_month_end</th>\n",
       "      <th>is_quarter_start</th>\n",
       "      <th>is_quarter_end</th>\n",
       "    </tr>\n",
       "  </thead>\n",
       "  <tbody>\n",
       "    <tr>\n",
       "      <th>0</th>\n",
       "      <td>2017-04-01</td>\n",
       "      <td>1</td>\n",
       "      <td>1.0</td>\n",
       "      <td>WEST BENGAL</td>\n",
       "      <td>EAST</td>\n",
       "      <td>40.0</td>\n",
       "      <td>2017</td>\n",
       "      <td>4</td>\n",
       "      <td>5</td>\n",
       "      <td>1</td>\n",
       "      <td>2</td>\n",
       "      <td>True</td>\n",
       "      <td>False</td>\n",
       "      <td>True</td>\n",
       "      <td>False</td>\n",
       "    </tr>\n",
       "    <tr>\n",
       "      <th>1</th>\n",
       "      <td>2017-04-03</td>\n",
       "      <td>1</td>\n",
       "      <td>1.0</td>\n",
       "      <td>WEST BENGAL</td>\n",
       "      <td>EAST</td>\n",
       "      <td>5.0</td>\n",
       "      <td>2017</td>\n",
       "      <td>4</td>\n",
       "      <td>0</td>\n",
       "      <td>3</td>\n",
       "      <td>2</td>\n",
       "      <td>False</td>\n",
       "      <td>False</td>\n",
       "      <td>False</td>\n",
       "      <td>False</td>\n",
       "    </tr>\n",
       "    <tr>\n",
       "      <th>2</th>\n",
       "      <td>2017-04-04</td>\n",
       "      <td>1</td>\n",
       "      <td>1.0</td>\n",
       "      <td>WEST BENGAL</td>\n",
       "      <td>EAST</td>\n",
       "      <td>4.0</td>\n",
       "      <td>2017</td>\n",
       "      <td>4</td>\n",
       "      <td>1</td>\n",
       "      <td>4</td>\n",
       "      <td>2</td>\n",
       "      <td>False</td>\n",
       "      <td>False</td>\n",
       "      <td>False</td>\n",
       "      <td>False</td>\n",
       "    </tr>\n",
       "    <tr>\n",
       "      <th>3</th>\n",
       "      <td>2017-04-05</td>\n",
       "      <td>1</td>\n",
       "      <td>1.0</td>\n",
       "      <td>WEST BENGAL</td>\n",
       "      <td>EAST</td>\n",
       "      <td>113.0</td>\n",
       "      <td>2017</td>\n",
       "      <td>4</td>\n",
       "      <td>2</td>\n",
       "      <td>5</td>\n",
       "      <td>2</td>\n",
       "      <td>False</td>\n",
       "      <td>False</td>\n",
       "      <td>False</td>\n",
       "      <td>False</td>\n",
       "    </tr>\n",
       "    <tr>\n",
       "      <th>4</th>\n",
       "      <td>2017-04-07</td>\n",
       "      <td>1</td>\n",
       "      <td>1.0</td>\n",
       "      <td>WEST BENGAL</td>\n",
       "      <td>EAST</td>\n",
       "      <td>76.0</td>\n",
       "      <td>2017</td>\n",
       "      <td>4</td>\n",
       "      <td>4</td>\n",
       "      <td>7</td>\n",
       "      <td>2</td>\n",
       "      <td>False</td>\n",
       "      <td>False</td>\n",
       "      <td>False</td>\n",
       "      <td>False</td>\n",
       "    </tr>\n",
       "  </tbody>\n",
       "</table>\n",
       "</div>"
      ],
      "text/plain": [
       "  application_date  segment  branch_id        state  zone  case_count  year  \\\n",
       "0       2017-04-01        1        1.0  WEST BENGAL  EAST        40.0  2017   \n",
       "1       2017-04-03        1        1.0  WEST BENGAL  EAST         5.0  2017   \n",
       "2       2017-04-04        1        1.0  WEST BENGAL  EAST         4.0  2017   \n",
       "3       2017-04-05        1        1.0  WEST BENGAL  EAST       113.0  2017   \n",
       "4       2017-04-07        1        1.0  WEST BENGAL  EAST        76.0  2017   \n",
       "\n",
       "   month  dayofweek  day  quarter is_month_start is_month_end  \\\n",
       "0      4          5    1        2           True        False   \n",
       "1      4          0    3        2          False        False   \n",
       "2      4          1    4        2          False        False   \n",
       "3      4          2    5        2          False        False   \n",
       "4      4          4    7        2          False        False   \n",
       "\n",
       "  is_quarter_start is_quarter_end  \n",
       "0             True          False  \n",
       "1            False          False  \n",
       "2            False          False  \n",
       "3            False          False  \n",
       "4            False          False  "
      ]
     },
     "execution_count": 270,
     "metadata": {},
     "output_type": "execute_result"
    }
   ],
   "source": [
    "train.head()"
   ]
  },
  {
   "cell_type": "code",
   "execution_count": 271,
   "metadata": {
    "collapsed": false
   },
   "outputs": [
    {
     "data": {
      "text/html": [
       "<div>\n",
       "<table border=\"1\" class=\"dataframe\">\n",
       "  <thead>\n",
       "    <tr style=\"text-align: right;\">\n",
       "      <th></th>\n",
       "      <th>application_date</th>\n",
       "      <th>segment</th>\n",
       "      <th>year</th>\n",
       "      <th>month</th>\n",
       "      <th>dayofweek</th>\n",
       "      <th>day</th>\n",
       "      <th>quarter</th>\n",
       "      <th>is_month_start</th>\n",
       "      <th>is_month_end</th>\n",
       "      <th>is_quarter_start</th>\n",
       "      <th>is_quarter_end</th>\n",
       "    </tr>\n",
       "  </thead>\n",
       "  <tbody>\n",
       "    <tr>\n",
       "      <th>0</th>\n",
       "      <td>2019-07-06</td>\n",
       "      <td>1</td>\n",
       "      <td>2019</td>\n",
       "      <td>7</td>\n",
       "      <td>5</td>\n",
       "      <td>6</td>\n",
       "      <td>3</td>\n",
       "      <td>False</td>\n",
       "      <td>False</td>\n",
       "      <td>False</td>\n",
       "      <td>False</td>\n",
       "    </tr>\n",
       "    <tr>\n",
       "      <th>1</th>\n",
       "      <td>2019-07-07</td>\n",
       "      <td>1</td>\n",
       "      <td>2019</td>\n",
       "      <td>7</td>\n",
       "      <td>6</td>\n",
       "      <td>7</td>\n",
       "      <td>3</td>\n",
       "      <td>False</td>\n",
       "      <td>False</td>\n",
       "      <td>False</td>\n",
       "      <td>False</td>\n",
       "    </tr>\n",
       "    <tr>\n",
       "      <th>2</th>\n",
       "      <td>2019-07-08</td>\n",
       "      <td>1</td>\n",
       "      <td>2019</td>\n",
       "      <td>7</td>\n",
       "      <td>0</td>\n",
       "      <td>8</td>\n",
       "      <td>3</td>\n",
       "      <td>False</td>\n",
       "      <td>False</td>\n",
       "      <td>False</td>\n",
       "      <td>False</td>\n",
       "    </tr>\n",
       "    <tr>\n",
       "      <th>3</th>\n",
       "      <td>2019-07-09</td>\n",
       "      <td>1</td>\n",
       "      <td>2019</td>\n",
       "      <td>7</td>\n",
       "      <td>1</td>\n",
       "      <td>9</td>\n",
       "      <td>3</td>\n",
       "      <td>False</td>\n",
       "      <td>False</td>\n",
       "      <td>False</td>\n",
       "      <td>False</td>\n",
       "    </tr>\n",
       "    <tr>\n",
       "      <th>4</th>\n",
       "      <td>2019-07-10</td>\n",
       "      <td>1</td>\n",
       "      <td>2019</td>\n",
       "      <td>7</td>\n",
       "      <td>2</td>\n",
       "      <td>10</td>\n",
       "      <td>3</td>\n",
       "      <td>False</td>\n",
       "      <td>False</td>\n",
       "      <td>False</td>\n",
       "      <td>False</td>\n",
       "    </tr>\n",
       "  </tbody>\n",
       "</table>\n",
       "</div>"
      ],
      "text/plain": [
       "  application_date  segment  year  month  dayofweek  day  quarter  \\\n",
       "0       2019-07-06        1  2019      7          5    6        3   \n",
       "1       2019-07-07        1  2019      7          6    7        3   \n",
       "2       2019-07-08        1  2019      7          0    8        3   \n",
       "3       2019-07-09        1  2019      7          1    9        3   \n",
       "4       2019-07-10        1  2019      7          2   10        3   \n",
       "\n",
       "  is_month_start is_month_end is_quarter_start is_quarter_end  \n",
       "0          False        False            False          False  \n",
       "1          False        False            False          False  \n",
       "2          False        False            False          False  \n",
       "3          False        False            False          False  \n",
       "4          False        False            False          False  "
      ]
     },
     "execution_count": 271,
     "metadata": {},
     "output_type": "execute_result"
    }
   ],
   "source": [
    "test.head()"
   ]
  },
  {
   "cell_type": "code",
   "execution_count": null,
   "metadata": {
    "collapsed": true
   },
   "outputs": [],
   "source": []
  },
  {
   "cell_type": "markdown",
   "metadata": {},
   "source": [
    "#### Defining the Evaluation Metric"
   ]
  },
  {
   "cell_type": "code",
   "execution_count": 282,
   "metadata": {
    "collapsed": true
   },
   "outputs": [],
   "source": [
    "def mean_absolute_percentage_error(y_true, y_pred): \n",
    "    y_true, y_pred = np.array(y_true), np.array(y_pred)\n",
    "    return np.mean(np.abs((y_pred - y_true) / y_pred)) * 100"
   ]
  },
  {
   "cell_type": "markdown",
   "metadata": {},
   "source": [
    "#### Model Building"
   ]
  },
  {
   "cell_type": "markdown",
   "metadata": {},
   "source": [
    "1. Since we are supposed to forecast sum of case counts at Country level, it makes sense to create dataframe using the current train and test dataframes. \n",
    "2. We can also create additional feature like we did earlier using this new dataframe."
   ]
  },
  {
   "cell_type": "code",
   "execution_count": 272,
   "metadata": {
    "collapsed": false
   },
   "outputs": [
    {
     "data": {
      "text/plain": [
       "(1650, 3)"
      ]
     },
     "execution_count": 272,
     "metadata": {},
     "output_type": "execute_result"
    }
   ],
   "source": [
    "df_train = train.groupby(['application_date','segment'],as_index=False)['case_count'].sum()\n",
    "df_train.shape"
   ]
  },
  {
   "cell_type": "code",
   "execution_count": 274,
   "metadata": {
    "collapsed": true
   },
   "outputs": [],
   "source": [
    "df_train['year'] = df_train.application_date.dt.year\n",
    "df_train['month'] = df_train.application_date.dt.month\n",
    "df_train['dayofweek'] = df_train.application_date.dt.dayofweek\n",
    "df_train['day'] = df_train.application_date.dt.day\n",
    "df_train['quarter'] = df_train.application_date.dt.quarter\n",
    "df_train['is_month_start'] = df_train.application_date.dt.is_month_start\n",
    "df_train['is_month_end'] = df_train.application_date.dt.is_month_end\n",
    "df_train['is_quarter_start'] = df_train.application_date.dt.is_quarter_start\n",
    "df_train['is_quarter_end'] = df_train.application_date.dt.is_quarter_end"
   ]
  },
  {
   "cell_type": "code",
   "execution_count": 279,
   "metadata": {
    "collapsed": true
   },
   "outputs": [],
   "source": [
    "X = df_train[[col for col in df_train.columns if col not in ['application_date','case_count']]]\n",
    "y = df_train['case_count']"
   ]
  },
  {
   "cell_type": "code",
   "execution_count": 281,
   "metadata": {
    "collapsed": false
   },
   "outputs": [
    {
     "name": "stdout",
     "output_type": "stream",
     "text": [
      "(1237, 10)\n",
      "(1237,)\n",
      "(413, 10)\n",
      "(413,)\n"
     ]
    }
   ],
   "source": [
    "X_Train,X_Test,y_Train,y_Test = train_test_split(X,y,test_size=0.25,random_state=42)\n",
    "print (X_Train.shape)\n",
    "print (y_Train.shape)\n",
    "print (X_Test.shape)\n",
    "print (y_Test.shape)"
   ]
  },
  {
   "cell_type": "code",
   "execution_count": 283,
   "metadata": {
    "collapsed": false
   },
   "outputs": [
    {
     "name": "stdout",
     "output_type": "stream",
     "text": [
      "483.2778010427255\n"
     ]
    },
    {
     "name": "stderr",
     "output_type": "stream",
     "text": [
      "C:\\Users\\kulka\\Anaconda3\\lib\\site-packages\\sklearn\\ensemble\\forest.py:245: FutureWarning: The default value of n_estimators will change from 10 in version 0.20 to 100 in 0.22.\n",
      "  \"10 in version 0.20 to 100 in 0.22.\", FutureWarning)\n"
     ]
    }
   ],
   "source": [
    "rf = RandomForestRegressor()\n",
    "rf.fit(X_Train,y_Train)\n",
    "y_pred = rf.predict(X_Test)\n",
    "print (mean_absolute_percentage_error(y_Test,y_pred))"
   ]
  },
  {
   "cell_type": "code",
   "execution_count": 286,
   "metadata": {
    "collapsed": false
   },
   "outputs": [],
   "source": [
    "test.drop('application_date',axis=1,inplace=True)"
   ]
  },
  {
   "cell_type": "code",
   "execution_count": 287,
   "metadata": {
    "collapsed": false
   },
   "outputs": [],
   "source": [
    "Submission['case_count'] = rf.predict(test)"
   ]
  },
  {
   "cell_type": "code",
   "execution_count": 288,
   "metadata": {
    "collapsed": false
   },
   "outputs": [
    {
     "data": {
      "text/html": [
       "<div>\n",
       "<table border=\"1\" class=\"dataframe\">\n",
       "  <thead>\n",
       "    <tr style=\"text-align: right;\">\n",
       "      <th></th>\n",
       "      <th>id</th>\n",
       "      <th>application_date</th>\n",
       "      <th>segment</th>\n",
       "      <th>case_count</th>\n",
       "    </tr>\n",
       "  </thead>\n",
       "  <tbody>\n",
       "    <tr>\n",
       "      <th>0</th>\n",
       "      <td>1</td>\n",
       "      <td>2019-07-06</td>\n",
       "      <td>1</td>\n",
       "      <td>2431.0</td>\n",
       "    </tr>\n",
       "    <tr>\n",
       "      <th>1</th>\n",
       "      <td>2</td>\n",
       "      <td>2019-07-07</td>\n",
       "      <td>1</td>\n",
       "      <td>1659.1</td>\n",
       "    </tr>\n",
       "    <tr>\n",
       "      <th>2</th>\n",
       "      <td>3</td>\n",
       "      <td>2019-07-08</td>\n",
       "      <td>1</td>\n",
       "      <td>4137.8</td>\n",
       "    </tr>\n",
       "    <tr>\n",
       "      <th>3</th>\n",
       "      <td>4</td>\n",
       "      <td>2019-07-09</td>\n",
       "      <td>1</td>\n",
       "      <td>3707.5</td>\n",
       "    </tr>\n",
       "    <tr>\n",
       "      <th>4</th>\n",
       "      <td>5</td>\n",
       "      <td>2019-07-10</td>\n",
       "      <td>1</td>\n",
       "      <td>3759.1</td>\n",
       "    </tr>\n",
       "    <tr>\n",
       "      <th>5</th>\n",
       "      <td>6</td>\n",
       "      <td>2019-07-11</td>\n",
       "      <td>1</td>\n",
       "      <td>3759.6</td>\n",
       "    </tr>\n",
       "    <tr>\n",
       "      <th>6</th>\n",
       "      <td>7</td>\n",
       "      <td>2019-07-12</td>\n",
       "      <td>1</td>\n",
       "      <td>3756.5</td>\n",
       "    </tr>\n",
       "    <tr>\n",
       "      <th>7</th>\n",
       "      <td>8</td>\n",
       "      <td>2019-07-13</td>\n",
       "      <td>1</td>\n",
       "      <td>2857.1</td>\n",
       "    </tr>\n",
       "    <tr>\n",
       "      <th>8</th>\n",
       "      <td>9</td>\n",
       "      <td>2019-07-14</td>\n",
       "      <td>1</td>\n",
       "      <td>1530.2</td>\n",
       "    </tr>\n",
       "    <tr>\n",
       "      <th>9</th>\n",
       "      <td>10</td>\n",
       "      <td>2019-07-15</td>\n",
       "      <td>1</td>\n",
       "      <td>3948.4</td>\n",
       "    </tr>\n",
       "    <tr>\n",
       "      <th>10</th>\n",
       "      <td>11</td>\n",
       "      <td>2019-07-16</td>\n",
       "      <td>1</td>\n",
       "      <td>3589.5</td>\n",
       "    </tr>\n",
       "    <tr>\n",
       "      <th>11</th>\n",
       "      <td>12</td>\n",
       "      <td>2019-07-17</td>\n",
       "      <td>1</td>\n",
       "      <td>3742.7</td>\n",
       "    </tr>\n",
       "    <tr>\n",
       "      <th>12</th>\n",
       "      <td>13</td>\n",
       "      <td>2019-07-18</td>\n",
       "      <td>1</td>\n",
       "      <td>3724.8</td>\n",
       "    </tr>\n",
       "    <tr>\n",
       "      <th>13</th>\n",
       "      <td>14</td>\n",
       "      <td>2019-07-19</td>\n",
       "      <td>1</td>\n",
       "      <td>3566.5</td>\n",
       "    </tr>\n",
       "    <tr>\n",
       "      <th>14</th>\n",
       "      <td>15</td>\n",
       "      <td>2019-07-20</td>\n",
       "      <td>1</td>\n",
       "      <td>2603.1</td>\n",
       "    </tr>\n",
       "    <tr>\n",
       "      <th>15</th>\n",
       "      <td>16</td>\n",
       "      <td>2019-07-21</td>\n",
       "      <td>1</td>\n",
       "      <td>1571.9</td>\n",
       "    </tr>\n",
       "    <tr>\n",
       "      <th>16</th>\n",
       "      <td>17</td>\n",
       "      <td>2019-07-22</td>\n",
       "      <td>1</td>\n",
       "      <td>3675.3</td>\n",
       "    </tr>\n",
       "    <tr>\n",
       "      <th>17</th>\n",
       "      <td>18</td>\n",
       "      <td>2019-07-23</td>\n",
       "      <td>1</td>\n",
       "      <td>3193.9</td>\n",
       "    </tr>\n",
       "    <tr>\n",
       "      <th>18</th>\n",
       "      <td>19</td>\n",
       "      <td>2019-07-24</td>\n",
       "      <td>1</td>\n",
       "      <td>3355.9</td>\n",
       "    </tr>\n",
       "    <tr>\n",
       "      <th>19</th>\n",
       "      <td>20</td>\n",
       "      <td>2019-07-25</td>\n",
       "      <td>1</td>\n",
       "      <td>3375.8</td>\n",
       "    </tr>\n",
       "    <tr>\n",
       "      <th>20</th>\n",
       "      <td>21</td>\n",
       "      <td>2019-07-26</td>\n",
       "      <td>1</td>\n",
       "      <td>3386.6</td>\n",
       "    </tr>\n",
       "    <tr>\n",
       "      <th>21</th>\n",
       "      <td>22</td>\n",
       "      <td>2019-07-27</td>\n",
       "      <td>1</td>\n",
       "      <td>2618.8</td>\n",
       "    </tr>\n",
       "    <tr>\n",
       "      <th>22</th>\n",
       "      <td>23</td>\n",
       "      <td>2019-07-28</td>\n",
       "      <td>1</td>\n",
       "      <td>1555.9</td>\n",
       "    </tr>\n",
       "    <tr>\n",
       "      <th>23</th>\n",
       "      <td>24</td>\n",
       "      <td>2019-07-29</td>\n",
       "      <td>1</td>\n",
       "      <td>3478.0</td>\n",
       "    </tr>\n",
       "    <tr>\n",
       "      <th>24</th>\n",
       "      <td>25</td>\n",
       "      <td>2019-07-30</td>\n",
       "      <td>1</td>\n",
       "      <td>3112.8</td>\n",
       "    </tr>\n",
       "    <tr>\n",
       "      <th>25</th>\n",
       "      <td>26</td>\n",
       "      <td>2019-07-31</td>\n",
       "      <td>1</td>\n",
       "      <td>6442.5</td>\n",
       "    </tr>\n",
       "    <tr>\n",
       "      <th>26</th>\n",
       "      <td>27</td>\n",
       "      <td>2019-08-01</td>\n",
       "      <td>1</td>\n",
       "      <td>2487.1</td>\n",
       "    </tr>\n",
       "    <tr>\n",
       "      <th>27</th>\n",
       "      <td>28</td>\n",
       "      <td>2019-08-02</td>\n",
       "      <td>1</td>\n",
       "      <td>2393.8</td>\n",
       "    </tr>\n",
       "    <tr>\n",
       "      <th>28</th>\n",
       "      <td>29</td>\n",
       "      <td>2019-08-03</td>\n",
       "      <td>1</td>\n",
       "      <td>1611.0</td>\n",
       "    </tr>\n",
       "    <tr>\n",
       "      <th>29</th>\n",
       "      <td>30</td>\n",
       "      <td>2019-08-04</td>\n",
       "      <td>1</td>\n",
       "      <td>1568.9</td>\n",
       "    </tr>\n",
       "    <tr>\n",
       "      <th>...</th>\n",
       "      <td>...</td>\n",
       "      <td>...</td>\n",
       "      <td>...</td>\n",
       "      <td>...</td>\n",
       "    </tr>\n",
       "    <tr>\n",
       "      <th>150</th>\n",
       "      <td>151</td>\n",
       "      <td>2019-09-25</td>\n",
       "      <td>2</td>\n",
       "      <td>27081.8</td>\n",
       "    </tr>\n",
       "    <tr>\n",
       "      <th>151</th>\n",
       "      <td>152</td>\n",
       "      <td>2019-09-26</td>\n",
       "      <td>2</td>\n",
       "      <td>25982.8</td>\n",
       "    </tr>\n",
       "    <tr>\n",
       "      <th>152</th>\n",
       "      <td>153</td>\n",
       "      <td>2019-09-27</td>\n",
       "      <td>2</td>\n",
       "      <td>23657.7</td>\n",
       "    </tr>\n",
       "    <tr>\n",
       "      <th>153</th>\n",
       "      <td>154</td>\n",
       "      <td>2019-09-28</td>\n",
       "      <td>2</td>\n",
       "      <td>17322.4</td>\n",
       "    </tr>\n",
       "    <tr>\n",
       "      <th>154</th>\n",
       "      <td>155</td>\n",
       "      <td>2019-09-29</td>\n",
       "      <td>2</td>\n",
       "      <td>16303.5</td>\n",
       "    </tr>\n",
       "    <tr>\n",
       "      <th>155</th>\n",
       "      <td>156</td>\n",
       "      <td>2019-09-30</td>\n",
       "      <td>2</td>\n",
       "      <td>2412.2</td>\n",
       "    </tr>\n",
       "    <tr>\n",
       "      <th>156</th>\n",
       "      <td>157</td>\n",
       "      <td>2019-10-01</td>\n",
       "      <td>2</td>\n",
       "      <td>5987.7</td>\n",
       "    </tr>\n",
       "    <tr>\n",
       "      <th>157</th>\n",
       "      <td>158</td>\n",
       "      <td>2019-10-02</td>\n",
       "      <td>2</td>\n",
       "      <td>5880.9</td>\n",
       "    </tr>\n",
       "    <tr>\n",
       "      <th>158</th>\n",
       "      <td>159</td>\n",
       "      <td>2019-10-03</td>\n",
       "      <td>2</td>\n",
       "      <td>5111.1</td>\n",
       "    </tr>\n",
       "    <tr>\n",
       "      <th>159</th>\n",
       "      <td>160</td>\n",
       "      <td>2019-10-04</td>\n",
       "      <td>2</td>\n",
       "      <td>4266.0</td>\n",
       "    </tr>\n",
       "    <tr>\n",
       "      <th>160</th>\n",
       "      <td>161</td>\n",
       "      <td>2019-10-05</td>\n",
       "      <td>2</td>\n",
       "      <td>4304.3</td>\n",
       "    </tr>\n",
       "    <tr>\n",
       "      <th>161</th>\n",
       "      <td>162</td>\n",
       "      <td>2019-10-06</td>\n",
       "      <td>2</td>\n",
       "      <td>3354.4</td>\n",
       "    </tr>\n",
       "    <tr>\n",
       "      <th>162</th>\n",
       "      <td>163</td>\n",
       "      <td>2019-10-07</td>\n",
       "      <td>2</td>\n",
       "      <td>3573.9</td>\n",
       "    </tr>\n",
       "    <tr>\n",
       "      <th>163</th>\n",
       "      <td>164</td>\n",
       "      <td>2019-10-08</td>\n",
       "      <td>2</td>\n",
       "      <td>4593.6</td>\n",
       "    </tr>\n",
       "    <tr>\n",
       "      <th>164</th>\n",
       "      <td>165</td>\n",
       "      <td>2019-10-09</td>\n",
       "      <td>2</td>\n",
       "      <td>5317.7</td>\n",
       "    </tr>\n",
       "    <tr>\n",
       "      <th>165</th>\n",
       "      <td>166</td>\n",
       "      <td>2019-10-10</td>\n",
       "      <td>2</td>\n",
       "      <td>6046.8</td>\n",
       "    </tr>\n",
       "    <tr>\n",
       "      <th>166</th>\n",
       "      <td>167</td>\n",
       "      <td>2019-10-11</td>\n",
       "      <td>2</td>\n",
       "      <td>22562.4</td>\n",
       "    </tr>\n",
       "    <tr>\n",
       "      <th>167</th>\n",
       "      <td>168</td>\n",
       "      <td>2019-10-12</td>\n",
       "      <td>2</td>\n",
       "      <td>27421.0</td>\n",
       "    </tr>\n",
       "    <tr>\n",
       "      <th>168</th>\n",
       "      <td>169</td>\n",
       "      <td>2019-10-13</td>\n",
       "      <td>2</td>\n",
       "      <td>16069.7</td>\n",
       "    </tr>\n",
       "    <tr>\n",
       "      <th>169</th>\n",
       "      <td>170</td>\n",
       "      <td>2019-10-14</td>\n",
       "      <td>2</td>\n",
       "      <td>28693.7</td>\n",
       "    </tr>\n",
       "    <tr>\n",
       "      <th>170</th>\n",
       "      <td>171</td>\n",
       "      <td>2019-10-15</td>\n",
       "      <td>2</td>\n",
       "      <td>27058.8</td>\n",
       "    </tr>\n",
       "    <tr>\n",
       "      <th>171</th>\n",
       "      <td>172</td>\n",
       "      <td>2019-10-16</td>\n",
       "      <td>2</td>\n",
       "      <td>23247.1</td>\n",
       "    </tr>\n",
       "    <tr>\n",
       "      <th>172</th>\n",
       "      <td>173</td>\n",
       "      <td>2019-10-17</td>\n",
       "      <td>2</td>\n",
       "      <td>22971.4</td>\n",
       "    </tr>\n",
       "    <tr>\n",
       "      <th>173</th>\n",
       "      <td>174</td>\n",
       "      <td>2019-10-18</td>\n",
       "      <td>2</td>\n",
       "      <td>18040.4</td>\n",
       "    </tr>\n",
       "    <tr>\n",
       "      <th>174</th>\n",
       "      <td>175</td>\n",
       "      <td>2019-10-19</td>\n",
       "      <td>2</td>\n",
       "      <td>23926.9</td>\n",
       "    </tr>\n",
       "    <tr>\n",
       "      <th>175</th>\n",
       "      <td>176</td>\n",
       "      <td>2019-10-20</td>\n",
       "      <td>2</td>\n",
       "      <td>14244.3</td>\n",
       "    </tr>\n",
       "    <tr>\n",
       "      <th>176</th>\n",
       "      <td>177</td>\n",
       "      <td>2019-10-21</td>\n",
       "      <td>2</td>\n",
       "      <td>26933.2</td>\n",
       "    </tr>\n",
       "    <tr>\n",
       "      <th>177</th>\n",
       "      <td>178</td>\n",
       "      <td>2019-10-22</td>\n",
       "      <td>2</td>\n",
       "      <td>28541.2</td>\n",
       "    </tr>\n",
       "    <tr>\n",
       "      <th>178</th>\n",
       "      <td>179</td>\n",
       "      <td>2019-10-23</td>\n",
       "      <td>2</td>\n",
       "      <td>29276.2</td>\n",
       "    </tr>\n",
       "    <tr>\n",
       "      <th>179</th>\n",
       "      <td>180</td>\n",
       "      <td>2019-10-24</td>\n",
       "      <td>2</td>\n",
       "      <td>27933.9</td>\n",
       "    </tr>\n",
       "  </tbody>\n",
       "</table>\n",
       "<p>180 rows × 4 columns</p>\n",
       "</div>"
      ],
      "text/plain": [
       "      id application_date  segment  case_count\n",
       "0      1       2019-07-06        1      2431.0\n",
       "1      2       2019-07-07        1      1659.1\n",
       "2      3       2019-07-08        1      4137.8\n",
       "3      4       2019-07-09        1      3707.5\n",
       "4      5       2019-07-10        1      3759.1\n",
       "5      6       2019-07-11        1      3759.6\n",
       "6      7       2019-07-12        1      3756.5\n",
       "7      8       2019-07-13        1      2857.1\n",
       "8      9       2019-07-14        1      1530.2\n",
       "9     10       2019-07-15        1      3948.4\n",
       "10    11       2019-07-16        1      3589.5\n",
       "11    12       2019-07-17        1      3742.7\n",
       "12    13       2019-07-18        1      3724.8\n",
       "13    14       2019-07-19        1      3566.5\n",
       "14    15       2019-07-20        1      2603.1\n",
       "15    16       2019-07-21        1      1571.9\n",
       "16    17       2019-07-22        1      3675.3\n",
       "17    18       2019-07-23        1      3193.9\n",
       "18    19       2019-07-24        1      3355.9\n",
       "19    20       2019-07-25        1      3375.8\n",
       "20    21       2019-07-26        1      3386.6\n",
       "21    22       2019-07-27        1      2618.8\n",
       "22    23       2019-07-28        1      1555.9\n",
       "23    24       2019-07-29        1      3478.0\n",
       "24    25       2019-07-30        1      3112.8\n",
       "25    26       2019-07-31        1      6442.5\n",
       "26    27       2019-08-01        1      2487.1\n",
       "27    28       2019-08-02        1      2393.8\n",
       "28    29       2019-08-03        1      1611.0\n",
       "29    30       2019-08-04        1      1568.9\n",
       "..   ...              ...      ...         ...\n",
       "150  151       2019-09-25        2     27081.8\n",
       "151  152       2019-09-26        2     25982.8\n",
       "152  153       2019-09-27        2     23657.7\n",
       "153  154       2019-09-28        2     17322.4\n",
       "154  155       2019-09-29        2     16303.5\n",
       "155  156       2019-09-30        2      2412.2\n",
       "156  157       2019-10-01        2      5987.7\n",
       "157  158       2019-10-02        2      5880.9\n",
       "158  159       2019-10-03        2      5111.1\n",
       "159  160       2019-10-04        2      4266.0\n",
       "160  161       2019-10-05        2      4304.3\n",
       "161  162       2019-10-06        2      3354.4\n",
       "162  163       2019-10-07        2      3573.9\n",
       "163  164       2019-10-08        2      4593.6\n",
       "164  165       2019-10-09        2      5317.7\n",
       "165  166       2019-10-10        2      6046.8\n",
       "166  167       2019-10-11        2     22562.4\n",
       "167  168       2019-10-12        2     27421.0\n",
       "168  169       2019-10-13        2     16069.7\n",
       "169  170       2019-10-14        2     28693.7\n",
       "170  171       2019-10-15        2     27058.8\n",
       "171  172       2019-10-16        2     23247.1\n",
       "172  173       2019-10-17        2     22971.4\n",
       "173  174       2019-10-18        2     18040.4\n",
       "174  175       2019-10-19        2     23926.9\n",
       "175  176       2019-10-20        2     14244.3\n",
       "176  177       2019-10-21        2     26933.2\n",
       "177  178       2019-10-22        2     28541.2\n",
       "178  179       2019-10-23        2     29276.2\n",
       "179  180       2019-10-24        2     27933.9\n",
       "\n",
       "[180 rows x 4 columns]"
      ]
     },
     "execution_count": 288,
     "metadata": {},
     "output_type": "execute_result"
    }
   ],
   "source": [
    "Submission.to"
   ]
  },
  {
   "cell_type": "code",
   "execution_count": null,
   "metadata": {
    "collapsed": true
   },
   "outputs": [],
   "source": []
  },
  {
   "cell_type": "code",
   "execution_count": null,
   "metadata": {
    "collapsed": true
   },
   "outputs": [],
   "source": []
  },
  {
   "cell_type": "code",
   "execution_count": null,
   "metadata": {
    "collapsed": true
   },
   "outputs": [],
   "source": []
  },
  {
   "cell_type": "code",
   "execution_count": null,
   "metadata": {
    "collapsed": true
   },
   "outputs": [],
   "source": []
  },
  {
   "cell_type": "code",
   "execution_count": null,
   "metadata": {
    "collapsed": true
   },
   "outputs": [],
   "source": []
  },
  {
   "cell_type": "code",
   "execution_count": null,
   "metadata": {
    "collapsed": true
   },
   "outputs": [],
   "source": []
  },
  {
   "cell_type": "code",
   "execution_count": null,
   "metadata": {
    "collapsed": true
   },
   "outputs": [],
   "source": []
  },
  {
   "cell_type": "code",
   "execution_count": null,
   "metadata": {
    "collapsed": true
   },
   "outputs": [],
   "source": []
  },
  {
   "cell_type": "code",
   "execution_count": null,
   "metadata": {
    "collapsed": true
   },
   "outputs": [],
   "source": []
  },
  {
   "cell_type": "code",
   "execution_count": null,
   "metadata": {
    "collapsed": true
   },
   "outputs": [],
   "source": []
  },
  {
   "cell_type": "code",
   "execution_count": null,
   "metadata": {
    "collapsed": true
   },
   "outputs": [],
   "source": []
  }
 ],
 "metadata": {
  "kernelspec": {
   "display_name": "Python 3",
   "language": "python",
   "name": "python3"
  },
  "language_info": {
   "codemirror_mode": {
    "name": "ipython",
    "version": 3
   },
   "file_extension": ".py",
   "mimetype": "text/x-python",
   "name": "python",
   "nbconvert_exporter": "python",
   "pygments_lexer": "ipython3",
   "version": "3.6.8"
  }
 },
 "nbformat": 4,
 "nbformat_minor": 2
}
